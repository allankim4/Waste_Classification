{
 "cells": [
  {
   "cell_type": "code",
   "execution_count": 1,
   "metadata": {},
   "outputs": [
    {
     "name": "stderr",
     "output_type": "stream",
     "text": [
      "Using TensorFlow backend.\n",
      "/home/allankim/anaconda3/lib/python3.7/site-packages/tensorflow/python/framework/dtypes.py:516: FutureWarning: Passing (type, 1) or '1type' as a synonym of type is deprecated; in a future version of numpy, it will be understood as (type, (1,)) / '(1,)type'.\n",
      "  _np_qint8 = np.dtype([(\"qint8\", np.int8, 1)])\n",
      "/home/allankim/anaconda3/lib/python3.7/site-packages/tensorflow/python/framework/dtypes.py:517: FutureWarning: Passing (type, 1) or '1type' as a synonym of type is deprecated; in a future version of numpy, it will be understood as (type, (1,)) / '(1,)type'.\n",
      "  _np_quint8 = np.dtype([(\"quint8\", np.uint8, 1)])\n",
      "/home/allankim/anaconda3/lib/python3.7/site-packages/tensorflow/python/framework/dtypes.py:518: FutureWarning: Passing (type, 1) or '1type' as a synonym of type is deprecated; in a future version of numpy, it will be understood as (type, (1,)) / '(1,)type'.\n",
      "  _np_qint16 = np.dtype([(\"qint16\", np.int16, 1)])\n",
      "/home/allankim/anaconda3/lib/python3.7/site-packages/tensorflow/python/framework/dtypes.py:519: FutureWarning: Passing (type, 1) or '1type' as a synonym of type is deprecated; in a future version of numpy, it will be understood as (type, (1,)) / '(1,)type'.\n",
      "  _np_quint16 = np.dtype([(\"quint16\", np.uint16, 1)])\n",
      "/home/allankim/anaconda3/lib/python3.7/site-packages/tensorflow/python/framework/dtypes.py:520: FutureWarning: Passing (type, 1) or '1type' as a synonym of type is deprecated; in a future version of numpy, it will be understood as (type, (1,)) / '(1,)type'.\n",
      "  _np_qint32 = np.dtype([(\"qint32\", np.int32, 1)])\n",
      "/home/allankim/anaconda3/lib/python3.7/site-packages/tensorflow/python/framework/dtypes.py:525: FutureWarning: Passing (type, 1) or '1type' as a synonym of type is deprecated; in a future version of numpy, it will be understood as (type, (1,)) / '(1,)type'.\n",
      "  np_resource = np.dtype([(\"resource\", np.ubyte, 1)])\n",
      "/home/allankim/anaconda3/lib/python3.7/site-packages/tensorboard/compat/tensorflow_stub/dtypes.py:541: FutureWarning: Passing (type, 1) or '1type' as a synonym of type is deprecated; in a future version of numpy, it will be understood as (type, (1,)) / '(1,)type'.\n",
      "  _np_qint8 = np.dtype([(\"qint8\", np.int8, 1)])\n",
      "/home/allankim/anaconda3/lib/python3.7/site-packages/tensorboard/compat/tensorflow_stub/dtypes.py:542: FutureWarning: Passing (type, 1) or '1type' as a synonym of type is deprecated; in a future version of numpy, it will be understood as (type, (1,)) / '(1,)type'.\n",
      "  _np_quint8 = np.dtype([(\"quint8\", np.uint8, 1)])\n",
      "/home/allankim/anaconda3/lib/python3.7/site-packages/tensorboard/compat/tensorflow_stub/dtypes.py:543: FutureWarning: Passing (type, 1) or '1type' as a synonym of type is deprecated; in a future version of numpy, it will be understood as (type, (1,)) / '(1,)type'.\n",
      "  _np_qint16 = np.dtype([(\"qint16\", np.int16, 1)])\n",
      "/home/allankim/anaconda3/lib/python3.7/site-packages/tensorboard/compat/tensorflow_stub/dtypes.py:544: FutureWarning: Passing (type, 1) or '1type' as a synonym of type is deprecated; in a future version of numpy, it will be understood as (type, (1,)) / '(1,)type'.\n",
      "  _np_quint16 = np.dtype([(\"quint16\", np.uint16, 1)])\n",
      "/home/allankim/anaconda3/lib/python3.7/site-packages/tensorboard/compat/tensorflow_stub/dtypes.py:545: FutureWarning: Passing (type, 1) or '1type' as a synonym of type is deprecated; in a future version of numpy, it will be understood as (type, (1,)) / '(1,)type'.\n",
      "  _np_qint32 = np.dtype([(\"qint32\", np.int32, 1)])\n",
      "/home/allankim/anaconda3/lib/python3.7/site-packages/tensorboard/compat/tensorflow_stub/dtypes.py:550: FutureWarning: Passing (type, 1) or '1type' as a synonym of type is deprecated; in a future version of numpy, it will be understood as (type, (1,)) / '(1,)type'.\n",
      "  np_resource = np.dtype([(\"resource\", np.ubyte, 1)])\n"
     ]
    }
   ],
   "source": [
    "# Importing the Keras libraries and packages\n",
    "from keras.models import Sequential\n",
    "from keras.layers import Convolution2D\n",
    "from keras.layers import MaxPooling2D\n",
    "from keras.layers import Flatten\n",
    "from keras.layers import Dense"
   ]
  },
  {
   "cell_type": "code",
   "execution_count": 2,
   "metadata": {},
   "outputs": [
    {
     "name": "stdout",
     "output_type": "stream",
     "text": [
      "WARNING:tensorflow:From /home/allankim/anaconda3/lib/python3.7/site-packages/keras/backend/tensorflow_backend.py:4070: The name tf.nn.max_pool is deprecated. Please use tf.nn.max_pool2d instead.\n",
      "\n",
      "WARNING:tensorflow:From /home/allankim/anaconda3/lib/python3.7/site-packages/tensorflow/python/ops/nn_impl.py:180: add_dispatch_support.<locals>.wrapper (from tensorflow.python.ops.array_ops) is deprecated and will be removed in a future version.\n",
      "Instructions for updating:\n",
      "Use tf.where in 2.0, which has the same broadcast rule as np.where\n"
     ]
    },
    {
     "name": "stderr",
     "output_type": "stream",
     "text": [
      "/home/allankim/anaconda3/lib/python3.7/site-packages/ipykernel_launcher.py:5: UserWarning: Update your `Conv2D` call to the Keras 2 API: `Conv2D(32, (3, 3), input_shape=(128, 128,..., activation=\"relu\")`\n",
      "  \"\"\"\n",
      "/home/allankim/anaconda3/lib/python3.7/site-packages/ipykernel_launcher.py:11: UserWarning: Update your `Conv2D` call to the Keras 2 API: `Conv2D(32, (3, 3), activation=\"relu\")`\n",
      "  # This is added back by InteractiveShellApp.init_path()\n",
      "/home/allankim/anaconda3/lib/python3.7/site-packages/ipykernel_launcher.py:18: UserWarning: Update your `Dense` call to the Keras 2 API: `Dense(activation=\"relu\", units=128)`\n",
      "/home/allankim/anaconda3/lib/python3.7/site-packages/ipykernel_launcher.py:19: UserWarning: Update your `Dense` call to the Keras 2 API: `Dense(activation=\"sigmoid\", units=1)`\n"
     ]
    }
   ],
   "source": [
    "# Initialising the CNN\n",
    "classifier = Sequential()\n",
    "\n",
    "# Convolution\n",
    "classifier.add(Convolution2D(32, 3, 3, input_shape = (128, 128, 3), activation = 'relu'))\n",
    "\n",
    "# Pooling\n",
    "classifier.add(MaxPooling2D(pool_size = (2, 2)))\n",
    "\n",
    "# Adding a second convolutional layer\n",
    "classifier.add(Convolution2D(32, 3, 3, activation = 'relu'))\n",
    "classifier.add(MaxPooling2D(pool_size = (2, 2)))\n",
    "\n",
    "# Flattening the Model\n",
    "classifier.add(Flatten())\n",
    "\n",
    "# Connecting all layer\n",
    "classifier.add(Dense(output_dim = 128, activation = 'relu'))\n",
    "classifier.add(Dense(output_dim = 1, activation = 'sigmoid'))\n",
    "\n",
    "# Compiling the model\n",
    "classifier.compile(optimizer = 'adam',\n",
    "                  loss = 'binary_crossentropy',\n",
    "                  metrics = ['accuracy'])"
   ]
  },
  {
   "cell_type": "code",
   "execution_count": 3,
   "metadata": {},
   "outputs": [
    {
     "name": "stdout",
     "output_type": "stream",
     "text": [
      "Found 22564 images belonging to 2 classes.\n",
      "Found 2513 images belonging to 2 classes.\n"
     ]
    }
   ],
   "source": [
    "#pre-processing images taken from keras documentation\n",
    "from keras.preprocessing.image import ImageDataGenerator, array_to_img, img_to_array, load_img\n",
    "\n",
    "train_datagen = ImageDataGenerator(\n",
    "    rescale=1./255,\n",
    "    shear_range=0.2,\n",
    "    zoom_range=0.2,\n",
    "    horizontal_flip=True)\n",
    "\n",
    "test_datagen = ImageDataGenerator(rescale=1./255)\n",
    "\n",
    "training_set = train_datagen.flow_from_directory(\n",
    "    'Images/DATASET/TRAIN',\n",
    "    target_size=(128, 128),\n",
    "    batch_size=1,\n",
    "    class_mode='binary')\n",
    "\n",
    "test_set = test_datagen.flow_from_directory(\n",
    "    'Images/DATASET/TEST',\n",
    "    target_size=(128, 128),\n",
    "    batch_size=4,\n",
    "    class_mode='binary')"
   ]
  },
  {
   "cell_type": "code",
   "execution_count": 4,
   "metadata": {},
   "outputs": [
    {
     "name": "stdout",
     "output_type": "stream",
     "text": [
      "WARNING:tensorflow:From /home/allankim/anaconda3/lib/python3.7/site-packages/keras/backend/tensorflow_backend.py:422: The name tf.global_variables is deprecated. Please use tf.compat.v1.global_variables instead.\n",
      "\n",
      "Epoch 1/25\n",
      "22564/22564 [==============================] - 97s 4ms/step - loss: 0.4772 - accuracy: 0.7953 - val_loss: 0.0131 - val_accuracy: 0.7799\n",
      "Epoch 2/25\n",
      "22564/22564 [==============================] - 96s 4ms/step - loss: 0.4210 - accuracy: 0.8192 - val_loss: 0.6180 - val_accuracy: 0.7947\n",
      "Epoch 3/25\n",
      "22564/22564 [==============================] - 96s 4ms/step - loss: 0.3979 - accuracy: 0.8333 - val_loss: 0.0681 - val_accuracy: 0.8615\n",
      "Epoch 4/25\n",
      "22564/22564 [==============================] - 96s 4ms/step - loss: 0.3832 - accuracy: 0.8415 - val_loss: 0.3413 - val_accuracy: 0.8277\n",
      "Epoch 5/25\n",
      "22564/22564 [==============================] - 96s 4ms/step - loss: 0.3844 - accuracy: 0.8454 - val_loss: 0.0352 - val_accuracy: 0.8591\n",
      "Epoch 6/25\n",
      "22564/22564 [==============================] - 97s 4ms/step - loss: 0.3771 - accuracy: 0.8467 - val_loss: 0.3733 - val_accuracy: 0.8719\n",
      "Epoch 7/25\n",
      "22564/22564 [==============================] - 97s 4ms/step - loss: 0.3778 - accuracy: 0.8437 - val_loss: 0.0074 - val_accuracy: 0.8544\n",
      "Epoch 8/25\n",
      "22564/22564 [==============================] - 97s 4ms/step - loss: 0.3799 - accuracy: 0.8467 - val_loss: 0.0018 - val_accuracy: 0.8711\n",
      "Epoch 9/25\n",
      "22564/22564 [==============================] - 97s 4ms/step - loss: 0.3778 - accuracy: 0.8452 - val_loss: 0.1322 - val_accuracy: 0.8898\n",
      "Epoch 10/25\n",
      "22564/22564 [==============================] - 97s 4ms/step - loss: 0.3766 - accuracy: 0.8483 - val_loss: 0.0810 - val_accuracy: 0.8739\n",
      "Epoch 11/25\n",
      "22564/22564 [==============================] - 98s 4ms/step - loss: 0.3923 - accuracy: 0.8485 - val_loss: 1.2888 - val_accuracy: 0.8643\n",
      "Epoch 12/25\n",
      "22564/22564 [==============================] - 98s 4ms/step - loss: 0.3799 - accuracy: 0.8463 - val_loss: 0.0745 - val_accuracy: 0.8834\n",
      "Epoch 13/25\n",
      "22564/22564 [==============================] - 98s 4ms/step - loss: 0.3705 - accuracy: 0.8497 - val_loss: 0.0264 - val_accuracy: 0.8567\n",
      "Epoch 14/25\n",
      "22564/22564 [==============================] - 98s 4ms/step - loss: 0.3749 - accuracy: 0.8456 - val_loss: 1.4287 - val_accuracy: 0.8468\n",
      "Epoch 15/25\n",
      "22564/22564 [==============================] - 98s 4ms/step - loss: 0.3746 - accuracy: 0.8485 - val_loss: 0.1324 - val_accuracy: 0.8790\n",
      "Epoch 16/25\n",
      "22564/22564 [==============================] - 98s 4ms/step - loss: 0.3729 - accuracy: 0.8498 - val_loss: 0.0118 - val_accuracy: 0.8655\n",
      "Epoch 17/25\n",
      "22564/22564 [==============================] - 98s 4ms/step - loss: 0.3797 - accuracy: 0.8465 - val_loss: 0.0302 - val_accuracy: 0.8774\n",
      "Epoch 18/25\n",
      "22564/22564 [==============================] - 98s 4ms/step - loss: 0.3697 - accuracy: 0.8466 - val_loss: 9.7926e-05 - val_accuracy: 0.8544\n",
      "Epoch 19/25\n",
      "22564/22564 [==============================] - 97s 4ms/step - loss: 0.3691 - accuracy: 0.8493 - val_loss: 0.0051 - val_accuracy: 0.8778\n",
      "Epoch 20/25\n",
      "22564/22564 [==============================] - 97s 4ms/step - loss: 0.3690 - accuracy: 0.8498 - val_loss: 0.5612 - val_accuracy: 0.8739\n",
      "Epoch 21/25\n",
      "22564/22564 [==============================] - 98s 4ms/step - loss: 0.3745 - accuracy: 0.8482 - val_loss: 1.5167 - val_accuracy: 0.8802\n",
      "Epoch 22/25\n",
      "22564/22564 [==============================] - 97s 4ms/step - loss: 0.4350 - accuracy: 0.8468 - val_loss: 0.1534 - val_accuracy: 0.8802\n",
      "Epoch 23/25\n",
      "22564/22564 [==============================] - 100s 4ms/step - loss: 0.3844 - accuracy: 0.8402 - val_loss: 0.1310 - val_accuracy: 0.8687\n",
      "Epoch 24/25\n",
      "22564/22564 [==============================] - 99s 4ms/step - loss: 0.3792 - accuracy: 0.8440 - val_loss: 0.0716 - val_accuracy: 0.8599\n",
      "Epoch 25/25\n",
      "22564/22564 [==============================] - 97s 4ms/step - loss: 0.3686 - accuracy: 0.8510 - val_loss: 0.4921 - val_accuracy: 0.8826\n"
     ]
    }
   ],
   "source": [
    "class1 = classifier.fit(\n",
    "    training_set,\n",
    "    epochs=25,\n",
    "    validation_data=test_set)"
   ]
  },
  {
   "cell_type": "code",
   "execution_count": 5,
   "metadata": {},
   "outputs": [
    {
     "data": {
      "text/plain": [
       "<Figure size 1500x400 with 2 Axes>"
      ]
     },
     "metadata": {},
     "output_type": "display_data"
    }
   ],
   "source": [
    "import matplotlib.pyplot as plt\n",
    "#Extracting CNN Results for Visualization\n",
    "hist_cnn = class1.history\n",
    "loss_values = hist_cnn['loss']\n",
    "val_loss_values = hist_cnn['val_loss']\n",
    "acc_values = hist_cnn['accuracy'] \n",
    "val_acc_values = hist_cnn['val_accuracy']\n",
    "\n",
    "\n",
    "epochs = range(1, len(loss_values) + 1)\n",
    "\n",
    "plt.figure(figsize=(15,4))\n",
    "plt.subplot(121)\n",
    "plt.plot(epochs, loss_values, 'g.', label='Training loss')\n",
    "plt.plot(epochs, val_loss_values, 'g', label='Validation loss')\n",
    "\n",
    "plt.title('Training and validation loss - 2-Layer CNN')\n",
    "plt.xlabel('Epochs')\n",
    "plt.ylabel('Loss')\n",
    "plt.legend()\n",
    "\n",
    "plt.subplot(122)\n",
    "plt.plot(epochs, acc_values, 'r.', label='Training acc')\n",
    "plt.plot(epochs, val_acc_values, 'r', label='Validation acc')\n",
    "plt.title('Training and validation accuracy - 2-Layer CNN')\n",
    "plt.xlabel('Epochs')\n",
    "plt.ylabel('Accuracy')\n",
    "plt.legend()\n",
    "# plt.savefig('Images/Model/cnn1.png')\n",
    "plt.show()"
   ]
  },
  {
   "cell_type": "code",
   "execution_count": 6,
   "metadata": {},
   "outputs": [],
   "source": [
    "#GridSearch validation model\n",
    "from keras.wrappers.scikit_learn import KerasClassifier\n",
    "from sklearn.model_selection import GridSearchCV"
   ]
  },
  {
   "cell_type": "code",
   "execution_count": 7,
   "metadata": {},
   "outputs": [],
   "source": [
    "#function to introduce model training in keras with Gridsearch\n",
    "def build_classifier(optimizer):\n",
    "    #ANN Model\n",
    "    classifier = Sequential()\n",
    "\n",
    "    # Convolution\n",
    "    classifier.add(Convolution2D(32, 3, 3, input_shape = (128, 128, 3), activation = 'relu'))\n",
    "\n",
    "    # Pooling\n",
    "    classifier.add(MaxPooling2D(pool_size = (2, 2)))\n",
    "\n",
    "    # Adding a second convolutional layer\n",
    "    classifier.add(Convolution2D(32, 3, 3, activation = 'relu'))\n",
    "    classifier.add(MaxPooling2D(pool_size = (2, 2)))\n",
    "\n",
    "    # Flattening the Model\n",
    "    classifier.add(Flatten())\n",
    "\n",
    "    # Connecting all layer\n",
    "    classifier.add(Dense(output_dim = 128, activation = 'relu'))\n",
    "    classifier.add(Dense(output_dim = 1, activation = 'sigmoid'))\n",
    "\n",
    "    # Compiling the model\n",
    "    classifier.compile(optimizer = optimizer,\n",
    "                      loss = 'binary_crossentropy',\n",
    "                      metrics = ['accuracy'])\n",
    "    return classifier"
   ]
  },
  {
   "cell_type": "code",
   "execution_count": 8,
   "metadata": {},
   "outputs": [],
   "source": [
    "classifier_sk = KerasClassifier(build_fn = build_classifier)"
   ]
  },
  {
   "cell_type": "code",
   "execution_count": 9,
   "metadata": {},
   "outputs": [
    {
     "ename": "NameError",
     "evalue": "name 'X_train' is not defined",
     "output_type": "error",
     "traceback": [
      "\u001b[0;31m---------------------------------------------------------------------------\u001b[0m",
      "\u001b[0;31mNameError\u001b[0m                                 Traceback (most recent call last)",
      "\u001b[0;32m<ipython-input-9-4bd0aae66ff5>\u001b[0m in \u001b[0;36m<module>\u001b[0;34m\u001b[0m\n\u001b[1;32m     11\u001b[0m                           cv = 10)\n\u001b[1;32m     12\u001b[0m \u001b[0;31m#training for gridsearch\u001b[0m\u001b[0;34m\u001b[0m\u001b[0;34m\u001b[0m\u001b[0;34m\u001b[0m\u001b[0m\n\u001b[0;32m---> 13\u001b[0;31m \u001b[0mgrid_search\u001b[0m \u001b[0;34m=\u001b[0m \u001b[0mgrid_search\u001b[0m\u001b[0;34m.\u001b[0m\u001b[0mfit\u001b[0m\u001b[0;34m(\u001b[0m\u001b[0mX_train\u001b[0m\u001b[0;34m,\u001b[0m \u001b[0my_train\u001b[0m\u001b[0;34m)\u001b[0m\u001b[0;34m\u001b[0m\u001b[0;34m\u001b[0m\u001b[0m\n\u001b[0m\u001b[1;32m     14\u001b[0m \u001b[0mbest_params\u001b[0m \u001b[0;34m=\u001b[0m \u001b[0mgrid_search\u001b[0m\u001b[0;34m.\u001b[0m\u001b[0mbest_params_\u001b[0m\u001b[0;34m\u001b[0m\u001b[0;34m\u001b[0m\u001b[0m\n\u001b[1;32m     15\u001b[0m \u001b[0mbest_accuracy\u001b[0m \u001b[0;34m=\u001b[0m \u001b[0mgrid_search\u001b[0m\u001b[0;34m.\u001b[0m\u001b[0mbest_score_\u001b[0m\u001b[0;34m\u001b[0m\u001b[0;34m\u001b[0m\u001b[0m\n",
      "\u001b[0;31mNameError\u001b[0m: name 'X_train' is not defined"
     ]
    }
   ],
   "source": [
    "#Parameters for GridSearch\n",
    "params = {'batch_size':[25,32],\n",
    "          'epochs': [100,200],\n",
    "          'optimizer': ['adam','rmsprop']\n",
    "         }\n",
    "\n",
    "#GridSearch for ANN\n",
    "grid_search = GridSearchCV(estimator=classifier_sk,\n",
    "                          param_grid = params,\n",
    "                          scoring='accuracy',\n",
    "                          cv = 10)\n",
    "#training for gridsearch\n",
    "grid_search = grid_search.fit(X_train, y_train)\n",
    "best_params = grid_search.best_params_\n",
    "best_accuracy = grid_search.best_score_"
   ]
  },
  {
   "cell_type": "code",
   "execution_count": null,
   "metadata": {},
   "outputs": [],
   "source": []
  }
 ],
 "metadata": {
  "kernelspec": {
   "display_name": "Python 3",
   "language": "python",
   "name": "python3"
  },
  "language_info": {
   "codemirror_mode": {
    "name": "ipython",
    "version": 3
   },
   "file_extension": ".py",
   "mimetype": "text/x-python",
   "name": "python",
   "nbconvert_exporter": "python",
   "pygments_lexer": "ipython3",
   "version": "3.7.3"
  }
 },
 "nbformat": 4,
 "nbformat_minor": 2
}
