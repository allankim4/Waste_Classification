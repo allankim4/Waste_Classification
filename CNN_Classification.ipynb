{
 "cells": [
  {
   "cell_type": "code",
   "execution_count": 1,
   "metadata": {},
   "outputs": [
    {
     "name": "stderr",
     "output_type": "stream",
     "text": [
      "Using TensorFlow backend.\n",
      "/home/allankim/anaconda3/lib/python3.7/site-packages/tensorflow/python/framework/dtypes.py:516: FutureWarning: Passing (type, 1) or '1type' as a synonym of type is deprecated; in a future version of numpy, it will be understood as (type, (1,)) / '(1,)type'.\n",
      "  _np_qint8 = np.dtype([(\"qint8\", np.int8, 1)])\n",
      "/home/allankim/anaconda3/lib/python3.7/site-packages/tensorflow/python/framework/dtypes.py:517: FutureWarning: Passing (type, 1) or '1type' as a synonym of type is deprecated; in a future version of numpy, it will be understood as (type, (1,)) / '(1,)type'.\n",
      "  _np_quint8 = np.dtype([(\"quint8\", np.uint8, 1)])\n",
      "/home/allankim/anaconda3/lib/python3.7/site-packages/tensorflow/python/framework/dtypes.py:518: FutureWarning: Passing (type, 1) or '1type' as a synonym of type is deprecated; in a future version of numpy, it will be understood as (type, (1,)) / '(1,)type'.\n",
      "  _np_qint16 = np.dtype([(\"qint16\", np.int16, 1)])\n",
      "/home/allankim/anaconda3/lib/python3.7/site-packages/tensorflow/python/framework/dtypes.py:519: FutureWarning: Passing (type, 1) or '1type' as a synonym of type is deprecated; in a future version of numpy, it will be understood as (type, (1,)) / '(1,)type'.\n",
      "  _np_quint16 = np.dtype([(\"quint16\", np.uint16, 1)])\n",
      "/home/allankim/anaconda3/lib/python3.7/site-packages/tensorflow/python/framework/dtypes.py:520: FutureWarning: Passing (type, 1) or '1type' as a synonym of type is deprecated; in a future version of numpy, it will be understood as (type, (1,)) / '(1,)type'.\n",
      "  _np_qint32 = np.dtype([(\"qint32\", np.int32, 1)])\n",
      "/home/allankim/anaconda3/lib/python3.7/site-packages/tensorflow/python/framework/dtypes.py:525: FutureWarning: Passing (type, 1) or '1type' as a synonym of type is deprecated; in a future version of numpy, it will be understood as (type, (1,)) / '(1,)type'.\n",
      "  np_resource = np.dtype([(\"resource\", np.ubyte, 1)])\n",
      "/home/allankim/anaconda3/lib/python3.7/site-packages/tensorboard/compat/tensorflow_stub/dtypes.py:541: FutureWarning: Passing (type, 1) or '1type' as a synonym of type is deprecated; in a future version of numpy, it will be understood as (type, (1,)) / '(1,)type'.\n",
      "  _np_qint8 = np.dtype([(\"qint8\", np.int8, 1)])\n",
      "/home/allankim/anaconda3/lib/python3.7/site-packages/tensorboard/compat/tensorflow_stub/dtypes.py:542: FutureWarning: Passing (type, 1) or '1type' as a synonym of type is deprecated; in a future version of numpy, it will be understood as (type, (1,)) / '(1,)type'.\n",
      "  _np_quint8 = np.dtype([(\"quint8\", np.uint8, 1)])\n",
      "/home/allankim/anaconda3/lib/python3.7/site-packages/tensorboard/compat/tensorflow_stub/dtypes.py:543: FutureWarning: Passing (type, 1) or '1type' as a synonym of type is deprecated; in a future version of numpy, it will be understood as (type, (1,)) / '(1,)type'.\n",
      "  _np_qint16 = np.dtype([(\"qint16\", np.int16, 1)])\n",
      "/home/allankim/anaconda3/lib/python3.7/site-packages/tensorboard/compat/tensorflow_stub/dtypes.py:544: FutureWarning: Passing (type, 1) or '1type' as a synonym of type is deprecated; in a future version of numpy, it will be understood as (type, (1,)) / '(1,)type'.\n",
      "  _np_quint16 = np.dtype([(\"quint16\", np.uint16, 1)])\n",
      "/home/allankim/anaconda3/lib/python3.7/site-packages/tensorboard/compat/tensorflow_stub/dtypes.py:545: FutureWarning: Passing (type, 1) or '1type' as a synonym of type is deprecated; in a future version of numpy, it will be understood as (type, (1,)) / '(1,)type'.\n",
      "  _np_qint32 = np.dtype([(\"qint32\", np.int32, 1)])\n",
      "/home/allankim/anaconda3/lib/python3.7/site-packages/tensorboard/compat/tensorflow_stub/dtypes.py:550: FutureWarning: Passing (type, 1) or '1type' as a synonym of type is deprecated; in a future version of numpy, it will be understood as (type, (1,)) / '(1,)type'.\n",
      "  np_resource = np.dtype([(\"resource\", np.ubyte, 1)])\n"
     ]
    }
   ],
   "source": [
    "# Importing the Keras libraries and packages\n",
    "from keras import models\n",
    "from keras.models import Sequential, Model\n",
    "from keras.layers import Conv2D\n",
    "from keras.layers import MaxPooling2D\n",
    "from keras.layers import Flatten, GlobalAveragePooling2D\n",
    "from keras.layers import Dense, Dropout, Activation, Flatten\n",
    "from keras.applications import inception_v3\n",
    "import matplotlib.pyplot as plt"
   ]
  },
  {
   "cell_type": "code",
   "execution_count": 2,
   "metadata": {},
   "outputs": [
    {
     "name": "stdout",
     "output_type": "stream",
     "text": [
      "Found 22564 images belonging to 2 classes.\n",
      "Found 2513 images belonging to 2 classes.\n"
     ]
    }
   ],
   "source": [
    "#pre-processing images taken from keras documentation\n",
    "from keras.preprocessing.image import ImageDataGenerator, array_to_img, img_to_array, load_img\n",
    "\n",
    "train_datagen = ImageDataGenerator(\n",
    "    rescale=1./255,\n",
    "    shear_range=0.2,\n",
    "    zoom_range=0.2,\n",
    "    horizontal_flip=True)\n",
    "\n",
    "test_datagen = ImageDataGenerator(rescale=1./255)\n",
    "\n",
    "training_set = train_datagen.flow_from_directory(\n",
    "    'Images/DATASET/TRAIN',\n",
    "    target_size=(256, 256),\n",
    "    batch_size=1,\n",
    "    class_mode='binary')\n",
    "\n",
    "test_set = test_datagen.flow_from_directory(\n",
    "    'Images/DATASET/TEST',\n",
    "    target_size=(256, 256),\n",
    "    batch_size=4,\n",
    "    class_mode='binary')"
   ]
  },
  {
   "cell_type": "code",
   "execution_count": 10,
   "metadata": {},
   "outputs": [
    {
     "name": "stderr",
     "output_type": "stream",
     "text": [
      "/home/allankim/anaconda3/lib/python3.7/site-packages/ipykernel_launcher.py:7: UserWarning: Update your `Dropout` call to the Keras 2 API: `Dropout(rate=0.1)`\n",
      "  import sys\n",
      "/home/allankim/anaconda3/lib/python3.7/site-packages/ipykernel_launcher.py:9: UserWarning: Update your `Dropout` call to the Keras 2 API: `Dropout(rate=0.1)`\n",
      "  if __name__ == '__main__':\n",
      "/home/allankim/anaconda3/lib/python3.7/site-packages/ipykernel_launcher.py:11: UserWarning: Update your `Dropout` call to the Keras 2 API: `Dropout(rate=0.1)`\n",
      "  # This is added back by InteractiveShellApp.init_path()\n"
     ]
    }
   ],
   "source": [
    "# imagenet=inception_v3.InceptionV3(weights='imagenet',include_top=False)\n",
    "# imagenet_new=imagenet.output\n",
    "# cnn2 = models.Sequential()\n",
    "# cnn2.add(imagenet)\n",
    "# cnn2.add(GlobalAveragePooling2D())\n",
    "# cnn2.add(Dense(1024,activation='relu'))\n",
    "# cnn2.add(Dropout(p = 0.1))\n",
    "# cnn2.add(Dense(1024,activation='relu')) #dense layer 2\n",
    "# cnn2.add(Dropout(p = 0.1))\n",
    "# cnn2.add(Dense(512,activation='relu')) #dense layer 3\n",
    "# cnn2.add(Dropout(p = 0.1))\n",
    "# cnn2.add(Dense(1,activation='sigmoid')) #final layer with softmax activation"
   ]
  },
  {
   "cell_type": "code",
   "execution_count": 15,
   "metadata": {},
   "outputs": [
    {
     "name": "stdout",
     "output_type": "stream",
     "text": [
      "WARNING:tensorflow:From /home/allankim/anaconda3/lib/python3.7/site-packages/tensorflow/python/ops/init_ops.py:1251: calling VarianceScaling.__init__ (from tensorflow.python.ops.init_ops) with dtype is deprecated and will be removed in a future version.\n",
      "Instructions for updating:\n",
      "Call initializer instance with the dtype argument instead of passing it to the constructor\n",
      "Downloading data from https://github.com/fchollet/deep-learning-models/releases/download/v0.2/resnet50_weights_tf_dim_ordering_tf_kernels.h5\n",
      "102858752/102853048 [==============================] - 6s 0us/step\n"
     ]
    },
    {
     "ename": "TypeError",
     "evalue": "The added layer must be an instance of class Layer. Found: <tensorflow.python.keras.engine.training.Model object at 0x7fa53a402b00>",
     "output_type": "error",
     "traceback": [
      "\u001b[0;31m---------------------------------------------------------------------------\u001b[0m",
      "\u001b[0;31mTypeError\u001b[0m                                 Traceback (most recent call last)",
      "\u001b[0;32m<ipython-input-15-0386e5de282d>\u001b[0m in \u001b[0;36m<module>\u001b[0;34m\u001b[0m\n\u001b[1;32m      2\u001b[0m \u001b[0mres\u001b[0m \u001b[0;34m=\u001b[0m \u001b[0mResNet50\u001b[0m\u001b[0;34m(\u001b[0m\u001b[0minput_shape\u001b[0m \u001b[0;34m=\u001b[0m \u001b[0;34m(\u001b[0m\u001b[0;36m224\u001b[0m\u001b[0;34m,\u001b[0m \u001b[0;36m224\u001b[0m\u001b[0;34m,\u001b[0m \u001b[0;36m3\u001b[0m\u001b[0;34m)\u001b[0m\u001b[0;34m,\u001b[0m \u001b[0minclude_top\u001b[0m \u001b[0;34m=\u001b[0m \u001b[0;32mTrue\u001b[0m\u001b[0;34m,\u001b[0m \u001b[0mweights\u001b[0m \u001b[0;34m=\u001b[0m \u001b[0;34m'imagenet'\u001b[0m\u001b[0;34m)\u001b[0m\u001b[0;34m\u001b[0m\u001b[0;34m\u001b[0m\u001b[0m\n\u001b[1;32m      3\u001b[0m \u001b[0mmodel\u001b[0m \u001b[0;34m=\u001b[0m \u001b[0mmodels\u001b[0m\u001b[0;34m.\u001b[0m\u001b[0mSequential\u001b[0m\u001b[0;34m(\u001b[0m\u001b[0;34m)\u001b[0m\u001b[0;34m\u001b[0m\u001b[0;34m\u001b[0m\u001b[0m\n\u001b[0;32m----> 4\u001b[0;31m \u001b[0mmodel\u001b[0m\u001b[0;34m.\u001b[0m\u001b[0madd\u001b[0m\u001b[0;34m(\u001b[0m\u001b[0mres\u001b[0m\u001b[0;34m)\u001b[0m\u001b[0;34m\u001b[0m\u001b[0;34m\u001b[0m\u001b[0m\n\u001b[0m\u001b[1;32m      5\u001b[0m \u001b[0mmodel\u001b[0m\u001b[0;34m.\u001b[0m\u001b[0madd\u001b[0m\u001b[0;34m(\u001b[0m\u001b[0mlayers\u001b[0m\u001b[0;34m.\u001b[0m\u001b[0mFlatten\u001b[0m\u001b[0;34m(\u001b[0m\u001b[0;34m)\u001b[0m\u001b[0;34m)\u001b[0m\u001b[0;34m\u001b[0m\u001b[0;34m\u001b[0m\u001b[0m\n\u001b[1;32m      6\u001b[0m \u001b[0mmodel\u001b[0m\u001b[0;34m.\u001b[0m\u001b[0madd\u001b[0m\u001b[0;34m(\u001b[0m\u001b[0mlayers\u001b[0m\u001b[0;34m.\u001b[0m\u001b[0mDense\u001b[0m\u001b[0;34m(\u001b[0m\u001b[0;36m256\u001b[0m\u001b[0;34m,\u001b[0m \u001b[0mactivation\u001b[0m\u001b[0;34m=\u001b[0m\u001b[0;34m'relu'\u001b[0m\u001b[0;34m)\u001b[0m\u001b[0;34m)\u001b[0m\u001b[0;34m\u001b[0m\u001b[0;34m\u001b[0m\u001b[0m\n",
      "\u001b[0;32m~/anaconda3/lib/python3.7/site-packages/keras/engine/sequential.py\u001b[0m in \u001b[0;36madd\u001b[0;34m(self, layer)\u001b[0m\n\u001b[1;32m    131\u001b[0m             raise TypeError('The added layer must be '\n\u001b[1;32m    132\u001b[0m                             \u001b[0;34m'an instance of class Layer. '\u001b[0m\u001b[0;34m\u001b[0m\u001b[0;34m\u001b[0m\u001b[0m\n\u001b[0;32m--> 133\u001b[0;31m                             'Found: ' + str(layer))\n\u001b[0m\u001b[1;32m    134\u001b[0m         \u001b[0mself\u001b[0m\u001b[0;34m.\u001b[0m\u001b[0mbuilt\u001b[0m \u001b[0;34m=\u001b[0m \u001b[0;32mFalse\u001b[0m\u001b[0;34m\u001b[0m\u001b[0;34m\u001b[0m\u001b[0m\n\u001b[1;32m    135\u001b[0m         \u001b[0;32mif\u001b[0m \u001b[0;32mnot\u001b[0m \u001b[0mself\u001b[0m\u001b[0;34m.\u001b[0m\u001b[0m_layers\u001b[0m\u001b[0;34m:\u001b[0m\u001b[0;34m\u001b[0m\u001b[0;34m\u001b[0m\u001b[0m\n",
      "\u001b[0;31mTypeError\u001b[0m: The added layer must be an instance of class Layer. Found: <tensorflow.python.keras.engine.training.Model object at 0x7fa53a402b00>"
     ]
    }
   ],
   "source": [
    "from tensorflow.keras.applications import ResNet50\n",
    "res = ResNet50(input_shape = (224, 224, 3), include_top = True, weights = 'imagenet')\n",
    "model = models.Sequential()\n",
    "model.add(res)\n",
    "model.add(layers.Flatten())\n",
    "model.add(layers.Dense(256, activation='relu'))\n",
    "model.add(layers.Dense(2, activation='softmax'))\n",
    "model.compile(optimizer = 'adam', loss = 'sparse_categorical_crossentropy', metrics = ['acc'])\n",
    "model.summary()"
   ]
  },
  {
   "cell_type": "code",
   "execution_count": 11,
   "metadata": {},
   "outputs": [],
   "source": [
    "for layer in cnn2.layers[:1]:\n",
    "    layer.trainable=False"
   ]
  },
  {
   "cell_type": "code",
   "execution_count": 12,
   "metadata": {},
   "outputs": [],
   "source": [
    "cnn2.compile(optimizer='Adam',loss='binary_crossentropy',metrics=['accuracy'])\n",
    "\n",
    "# # step_size_train=train_generator.n//train_generator.batch_size\n",
    "# new_model.fit(X_train,\n",
    "#           y_train,\n",
    "#           epochs=100,\n",
    "#           validation_data=(X_test, y_test))"
   ]
  },
  {
   "cell_type": "code",
   "execution_count": 6,
   "metadata": {},
   "outputs": [],
   "source": [
    "# # Initialising the CNN\n",
    "# classifier = Sequential()\n",
    "\n",
    "# # Convolution\n",
    "# classifier.add(Conv2D(32, (3, 3), input_shape = (256, 256, 3), activation = 'relu'))\n",
    "\n",
    "# # Pooling\n",
    "# classifier.add(MaxPooling2D(pool_size = (2, 2)))\n",
    "\n",
    "\n",
    "# classifier.add(Conv2D(32, (3, 3)))\n",
    "# classifier.add(Activation('relu'))\n",
    "# classifier.add(MaxPooling2D(pool_size=(2, 2)))\n",
    "# classifier.add(Dropout(0.25))\n",
    "\n",
    "# classifier.add(Conv2D(64, (3, 3), padding='same'))\n",
    "# classifier.add(Activation('relu'))\n",
    "# classifier.add(Conv2D(64, (3, 3)))\n",
    "# classifier.add(Activation('relu'))\n",
    "# classifier.add(MaxPooling2D(pool_size=(2, 2)))\n",
    "# classifier.add(Dropout(0.25))\n",
    "\n",
    "# classifier.add(Flatten())\n",
    "# classifier.add(Dense(512))\n",
    "# classifier.add(Activation('relu'))\n",
    "# classifier.add(Dropout(0.5))\n",
    "# classifier.add(Dense(1))\n",
    "# classifier.add(Activation('sigmoid'))\n",
    "\n",
    "\n",
    "\n",
    "# # Adding a second convolutional layer\n",
    "# # classifier.add(Conv2D(32, (3, 3), activation = 'relu'))\n",
    "# # classifier.add(MaxPooling2D(pool_size = (2, 2)))\n",
    "\n",
    "# # # Adding a second convolutional layer\n",
    "# # classifier.add(Conv2D(32, (3, 3), activation = 'relu'))\n",
    "# # classifier.add(MaxPooling2D(pool_size = (2, 2)))\n",
    "\n",
    "# # # Flattening the classifier\n",
    "# # classifier.add(Flatten())\n",
    "\n",
    "# # # Connecting all layer\n",
    "# # classifier.add(Dense(units = 128, activation = 'relu'))\n",
    "# # classifier.add(Dense(units = 1, activation = 'sigmoid'))\n",
    "\n",
    "# # Compiling the classifier\n",
    "# classifier.compile(optimizer = 'adam',\n",
    "#                   loss = 'binary_crossentropy',\n",
    "#                   metrics = ['accuracy'])"
   ]
  },
  {
   "cell_type": "code",
   "execution_count": 13,
   "metadata": {},
   "outputs": [
    {
     "name": "stdout",
     "output_type": "stream",
     "text": [
      "Epoch 1/30\n",
      "22564/22564 [==============================] - 473s 21ms/step - loss: 0.6908 - accuracy: 0.5562 - val_loss: 0.6394 - val_accuracy: 0.5607\n",
      "Epoch 2/30\n",
      "22564/22564 [==============================] - 472s 21ms/step - loss: 0.6870 - accuracy: 0.5569 - val_loss: 0.5891 - val_accuracy: 0.5575\n",
      "Epoch 3/30\n",
      "22564/22564 [==============================] - 472s 21ms/step - loss: 0.6871 - accuracy: 0.5569 - val_loss: 0.5330 - val_accuracy: 0.5575\n",
      "Epoch 4/30\n",
      "22564/22564 [==============================] - 472s 21ms/step - loss: 0.6869 - accuracy: 0.5569 - val_loss: 0.5894 - val_accuracy: 0.5575\n",
      "Epoch 5/30\n",
      "22564/22564 [==============================] - 472s 21ms/step - loss: 0.6886 - accuracy: 0.5569 - val_loss: 0.6038 - val_accuracy: 0.5575\n",
      "Epoch 6/30\n",
      "22564/22564 [==============================] - 472s 21ms/step - loss: 0.6868 - accuracy: 0.5569 - val_loss: 0.6152 - val_accuracy: 0.5575\n",
      "Epoch 7/30\n",
      "22564/22564 [==============================] - 473s 21ms/step - loss: 0.6868 - accuracy: 0.5569 - val_loss: 0.8258 - val_accuracy: 0.5575\n",
      "Epoch 8/30\n",
      "22564/22564 [==============================] - 473s 21ms/step - loss: 0.6868 - accuracy: 0.5569 - val_loss: 0.5886 - val_accuracy: 0.5575\n",
      "Epoch 9/30\n",
      "22564/22564 [==============================] - 477s 21ms/step - loss: 0.6869 - accuracy: 0.5569 - val_loss: 0.8143 - val_accuracy: 0.5575\n",
      "Epoch 10/30\n",
      "22564/22564 [==============================] - 476s 21ms/step - loss: 0.6868 - accuracy: 0.5569 - val_loss: 0.8285 - val_accuracy: 0.5575\n",
      "Epoch 11/30\n",
      "22564/22564 [==============================] - 476s 21ms/step - loss: 0.6867 - accuracy: 0.5569 - val_loss: 0.5816 - val_accuracy: 0.5575\n",
      "Epoch 12/30\n",
      "22564/22564 [==============================] - 476s 21ms/step - loss: 0.6868 - accuracy: 0.5569 - val_loss: 0.8247 - val_accuracy: 0.5575\n",
      "Epoch 13/30\n",
      "22564/22564 [==============================] - 476s 21ms/step - loss: 0.6869 - accuracy: 0.5569 - val_loss: 0.8217 - val_accuracy: 0.5575\n",
      "Epoch 14/30\n",
      "22564/22564 [==============================] - 476s 21ms/step - loss: 0.6867 - accuracy: 0.5569 - val_loss: 0.5718 - val_accuracy: 0.5575\n",
      "Epoch 15/30\n",
      "22564/22564 [==============================] - 476s 21ms/step - loss: 0.6867 - accuracy: 0.5569 - val_loss: 0.8014 - val_accuracy: 0.5575\n",
      "Epoch 16/30\n",
      "22564/22564 [==============================] - 476s 21ms/step - loss: 0.6868 - accuracy: 0.5569 - val_loss: 0.8265 - val_accuracy: 0.5575\n",
      "Epoch 17/30\n",
      "22564/22564 [==============================] - 476s 21ms/step - loss: 0.6868 - accuracy: 0.5569 - val_loss: 0.8250 - val_accuracy: 0.5575\n",
      "Epoch 18/30\n",
      "22564/22564 [==============================] - 475s 21ms/step - loss: 0.6868 - accuracy: 0.5569 - val_loss: 0.5944 - val_accuracy: 0.5575\n",
      "Epoch 19/30\n",
      "22564/22564 [==============================] - 476s 21ms/step - loss: 0.6868 - accuracy: 0.5569 - val_loss: 0.5757 - val_accuracy: 0.5575\n",
      "Epoch 20/30\n",
      "22564/22564 [==============================] - 476s 21ms/step - loss: 0.6868 - accuracy: 0.5569 - val_loss: 0.5889 - val_accuracy: 0.5575\n",
      "Epoch 21/30\n",
      "22564/22564 [==============================] - 475s 21ms/step - loss: 0.6869 - accuracy: 0.5569 - val_loss: 0.8150 - val_accuracy: 0.5575\n",
      "Epoch 22/30\n",
      "22564/22564 [==============================] - 475s 21ms/step - loss: 0.6867 - accuracy: 0.5569 - val_loss: 0.5888 - val_accuracy: 0.5575\n",
      "Epoch 23/30\n",
      "22564/22564 [==============================] - 476s 21ms/step - loss: 0.6868 - accuracy: 0.5569 - val_loss: 0.5975 - val_accuracy: 0.5575\n",
      "Epoch 24/30\n",
      "22564/22564 [==============================] - 475s 21ms/step - loss: 0.6868 - accuracy: 0.5569 - val_loss: 0.5743 - val_accuracy: 0.5575\n",
      "Epoch 25/30\n",
      "22564/22564 [==============================] - 476s 21ms/step - loss: 0.6868 - accuracy: 0.5569 - val_loss: 0.5869 - val_accuracy: 0.5575\n",
      "Epoch 26/30\n",
      "22564/22564 [==============================] - 476s 21ms/step - loss: 0.6868 - accuracy: 0.5569 - val_loss: 0.5760 - val_accuracy: 0.5575\n",
      "Epoch 27/30\n",
      "22564/22564 [==============================] - 477s 21ms/step - loss: 0.6868 - accuracy: 0.5569 - val_loss: 0.8431 - val_accuracy: 0.5575\n",
      "Epoch 28/30\n",
      "22564/22564 [==============================] - 476s 21ms/step - loss: 0.6868 - accuracy: 0.5569 - val_loss: 0.5877 - val_accuracy: 0.5575\n",
      "Epoch 29/30\n",
      "22564/22564 [==============================] - 477s 21ms/step - loss: 0.6869 - accuracy: 0.5569 - val_loss: 0.5957 - val_accuracy: 0.5575\n",
      "Epoch 30/30\n",
      "22564/22564 [==============================] - 476s 21ms/step - loss: 0.6867 - accuracy: 0.5569 - val_loss: 0.8419 - val_accuracy: 0.5575\n"
     ]
    }
   ],
   "source": [
    "class1 = cnn2.fit(\n",
    "    training_set,\n",
    "    epochs=30,\n",
    "    validation_data=test_set)"
   ]
  },
  {
   "cell_type": "code",
   "execution_count": 9,
   "metadata": {},
   "outputs": [
    {
     "data": {
      "image/png": "[encoded data removed]",
      "text/plain": [
       "<Figure size 1080x288 with 2 Axes>"
      ]
     },
     "metadata": {
      "needs_background": "light"
     },
     "output_type": "display_data"
    }
   ],
   "source": [
    "#Extracting CNN Results for Visualization\n",
    "hist_cnn = class1.history\n",
    "loss_values = hist_cnn['loss']\n",
    "val_loss_values = hist_cnn['val_loss']\n",
    "acc_values = hist_cnn['accuracy'] \n",
    "val_acc_values = hist_cnn['val_accuracy']\n",
    "\n",
    "\n",
    "epochs = range(1, len(loss_values) + 1)\n",
    "\n",
    "plt.figure(figsize=(15,4))\n",
    "plt.subplot(121)\n",
    "plt.plot(epochs, loss_values, 'g.', label='Training loss')\n",
    "plt.plot(epochs, val_loss_values, 'g', label='Validation loss')\n",
    "\n",
    "plt.title('Training and validation loss - 2-Layer CNN')\n",
    "plt.xlabel('Epochs')\n",
    "plt.ylabel('Loss')\n",
    "plt.legend()\n",
    "\n",
    "plt.subplot(122)\n",
    "plt.plot(epochs, acc_values, 'r.', label='Training acc')\n",
    "plt.plot(epochs, val_acc_values, 'r', label='Validation acc')\n",
    "plt.title('Training and validation accuracy - 2-Layer CNN')\n",
    "plt.xlabel('Epochs')\n",
    "plt.ylabel('Accuracy')\n",
    "plt.legend()\n",
    "# plt.savefig('Images/Model/cnn1.png')\n",
    "plt.show()"
   ]
  },
  {
   "cell_type": "code",
   "execution_count": null,
   "metadata": {},
   "outputs": [],
   "source": []
  }
 ],
 "metadata": {
  "kernelspec": {
   "display_name": "Python 3",
   "language": "python",
   "name": "python3"
  },
  "language_info": {
   "codemirror_mode": {
    "name": "ipython",
    "version": 3
   },
   "file_extension": ".py",
   "mimetype": "text/x-python",
   "name": "python",
   "nbconvert_exporter": "python",
   "pygments_lexer": "ipython3",
   "version": "3.7.3"
  }
 },
 "nbformat": 4,
 "nbformat_minor": 2
}
