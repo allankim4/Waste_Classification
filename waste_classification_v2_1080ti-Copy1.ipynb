{
 "cells": [
  {
   "cell_type": "code",
   "execution_count": 2,
   "metadata": {},
   "outputs": [
    {
     "name": "stderr",
     "output_type": "stream",
     "text": [
      "Using TensorFlow backend.\n",
      "/home/allankim/anaconda3/lib/python3.7/site-packages/tensorflow/python/framework/dtypes.py:516: FutureWarning: Passing (type, 1) or '1type' as a synonym of type is deprecated; in a future version of numpy, it will be understood as (type, (1,)) / '(1,)type'.\n",
      "  _np_qint8 = np.dtype([(\"qint8\", np.int8, 1)])\n",
      "/home/allankim/anaconda3/lib/python3.7/site-packages/tensorflow/python/framework/dtypes.py:517: FutureWarning: Passing (type, 1) or '1type' as a synonym of type is deprecated; in a future version of numpy, it will be understood as (type, (1,)) / '(1,)type'.\n",
      "  _np_quint8 = np.dtype([(\"quint8\", np.uint8, 1)])\n",
      "/home/allankim/anaconda3/lib/python3.7/site-packages/tensorflow/python/framework/dtypes.py:518: FutureWarning: Passing (type, 1) or '1type' as a synonym of type is deprecated; in a future version of numpy, it will be understood as (type, (1,)) / '(1,)type'.\n",
      "  _np_qint16 = np.dtype([(\"qint16\", np.int16, 1)])\n",
      "/home/allankim/anaconda3/lib/python3.7/site-packages/tensorflow/python/framework/dtypes.py:519: FutureWarning: Passing (type, 1) or '1type' as a synonym of type is deprecated; in a future version of numpy, it will be understood as (type, (1,)) / '(1,)type'.\n",
      "  _np_quint16 = np.dtype([(\"quint16\", np.uint16, 1)])\n",
      "/home/allankim/anaconda3/lib/python3.7/site-packages/tensorflow/python/framework/dtypes.py:520: FutureWarning: Passing (type, 1) or '1type' as a synonym of type is deprecated; in a future version of numpy, it will be understood as (type, (1,)) / '(1,)type'.\n",
      "  _np_qint32 = np.dtype([(\"qint32\", np.int32, 1)])\n",
      "/home/allankim/anaconda3/lib/python3.7/site-packages/tensorflow/python/framework/dtypes.py:525: FutureWarning: Passing (type, 1) or '1type' as a synonym of type is deprecated; in a future version of numpy, it will be understood as (type, (1,)) / '(1,)type'.\n",
      "  np_resource = np.dtype([(\"resource\", np.ubyte, 1)])\n",
      "/home/allankim/anaconda3/lib/python3.7/site-packages/tensorboard/compat/tensorflow_stub/dtypes.py:541: FutureWarning: Passing (type, 1) or '1type' as a synonym of type is deprecated; in a future version of numpy, it will be understood as (type, (1,)) / '(1,)type'.\n",
      "  _np_qint8 = np.dtype([(\"qint8\", np.int8, 1)])\n",
      "/home/allankim/anaconda3/lib/python3.7/site-packages/tensorboard/compat/tensorflow_stub/dtypes.py:542: FutureWarning: Passing (type, 1) or '1type' as a synonym of type is deprecated; in a future version of numpy, it will be understood as (type, (1,)) / '(1,)type'.\n",
      "  _np_quint8 = np.dtype([(\"quint8\", np.uint8, 1)])\n",
      "/home/allankim/anaconda3/lib/python3.7/site-packages/tensorboard/compat/tensorflow_stub/dtypes.py:543: FutureWarning: Passing (type, 1) or '1type' as a synonym of type is deprecated; in a future version of numpy, it will be understood as (type, (1,)) / '(1,)type'.\n",
      "  _np_qint16 = np.dtype([(\"qint16\", np.int16, 1)])\n",
      "/home/allankim/anaconda3/lib/python3.7/site-packages/tensorboard/compat/tensorflow_stub/dtypes.py:544: FutureWarning: Passing (type, 1) or '1type' as a synonym of type is deprecated; in a future version of numpy, it will be understood as (type, (1,)) / '(1,)type'.\n",
      "  _np_quint16 = np.dtype([(\"quint16\", np.uint16, 1)])\n",
      "/home/allankim/anaconda3/lib/python3.7/site-packages/tensorboard/compat/tensorflow_stub/dtypes.py:545: FutureWarning: Passing (type, 1) or '1type' as a synonym of type is deprecated; in a future version of numpy, it will be understood as (type, (1,)) / '(1,)type'.\n",
      "  _np_qint32 = np.dtype([(\"qint32\", np.int32, 1)])\n",
      "/home/allankim/anaconda3/lib/python3.7/site-packages/tensorboard/compat/tensorflow_stub/dtypes.py:550: FutureWarning: Passing (type, 1) or '1type' as a synonym of type is deprecated; in a future version of numpy, it will be understood as (type, (1,)) / '(1,)type'.\n",
      "  np_resource = np.dtype([(\"resource\", np.ubyte, 1)])\n"
     ]
    }
   ],
   "source": [
    "#-----------WARNING-----------WARNING-----------WARNING-----------WARNING-----------WARNING-----------WARNING\n",
    "#Running the whole notebook without a GPU, CUDA, CUDNN, and Tensorflow-GPU may take 8+ hours of compiling per model\n",
    "import matplotlib.pyplot as plt\n",
    "import numpy as np\n",
    "from keras import models\n",
    "from keras import layers\n",
    "from sklearn.model_selection import train_test_split\n",
    "from keras.models import load_model\n",
    "from keras.layers import Dropout\n",
    "from keras.preprocessing.image import ImageDataGenerator\n",
    "import warnings\n",
    "\n",
    "warnings.filterwarnings('ignore')\n",
    "%matplotlib inline"
   ]
  },
  {
   "cell_type": "code",
   "execution_count": 54,
   "metadata": {},
   "outputs": [
    {
     "name": "stdout",
     "output_type": "stream",
     "text": [
      "Found 2513 images belonging to 2 classes.\n"
     ]
    }
   ],
   "source": [
    "# get all the data in the directory split/test, and reshape them\n",
    "data_test = ImageDataGenerator(rescale=1./255).flow_from_directory(\n",
    "    'Images/DATASET/TEST',\n",
    "    target_size=(256, 256),\n",
    "    batch_size=64,\n",
    "    seed=1234)"
   ]
  },
  {
   "cell_type": "code",
   "execution_count": 55,
   "metadata": {},
   "outputs": [
    {
     "name": "stdout",
     "output_type": "stream",
     "text": [
      "Found 22564 images belonging to 2 classes.\n"
     ]
    }
   ],
   "source": [
    "data_train = ImageDataGenerator(rescale=1./255).flow_from_directory(\n",
    "    'Images/DATASET/TRAIN',\n",
    "    target_size=(256, 256),\n",
    "    batch_size=128,\n",
    "    seed=1234)"
   ]
  },
  {
   "cell_type": "code",
   "execution_count": 56,
   "metadata": {},
   "outputs": [],
   "source": [
    "#split images and labels\n",
    "images_train, labels_train = next(data_train)\n",
    "images_test, labels_test= next(data_test)\n",
    "\n",
    "#Merging all images and labels\n",
    "images = np.concatenate((images_train, images_test))\n",
    "labels = np.concatenate((labels_train[:,0], labels_test[:,0]))\n",
    "\n",
    "#Creating Random Split for test data\n",
    "X_model, X_test, y_model, y_test = train_test_split(images, labels, test_size=0.20, random_state=1234)\n",
    "\n",
    "#Creating Random Split for validation and training data\n",
    "X_train, X_val, y_train, y_val = train_test_split(X_model, y_model, test_size=0.20, random_state=1234)"
   ]
  },
  {
   "cell_type": "code",
   "execution_count": 57,
   "metadata": {},
   "outputs": [],
   "source": [
    "#Creating Convolutional Neural Network\n",
    "cnn = models.Sequential()\n",
    "\n",
    "#1st Layer\n",
    "cnn.add(layers.Conv2D(32, (3, 3), activation='relu', input_shape=(256, 256,  3)))\n",
    "cnn.add(layers.MaxPooling2D((2, 2)))\n",
    "cnn.add(Dropout(p = 0.1))\n",
    "\n",
    "#2nd Layer\n",
    "cnn.add(layers.Conv2D(32, (3, 3), activation='relu'))\n",
    "cnn.add(layers.MaxPooling2D((2, 2)))\n",
    "cnn.add(Dropout(p = 0.1))\n",
    "cnn.add(layers.Flatten())\n",
    "cnn.add(layers.Dense(32, activation='relu'))\n",
    "\n",
    "#Output Layer\n",
    "cnn.add(layers.Dense(1, activation='sigmoid'))\n",
    "\n",
    "#Configuring CNN\n",
    "cnn.compile(loss='binary_crossentropy',\n",
    "              optimizer=\"adam\",\n",
    "              metrics=['accuracy'])"
   ]
  },
  {
   "cell_type": "code",
   "execution_count": 58,
   "metadata": {
    "scrolled": false
   },
   "outputs": [
    {
     "name": "stdout",
     "output_type": "stream",
     "text": [
      "Train on 122 samples, validate on 31 samples\n",
      "Epoch 1/100\n",
      "122/122 [==============================] - 3s 26ms/step - loss: 2.4461 - accuracy: 0.5246 - val_loss: 1.0068 - val_accuracy: 0.5484\n",
      "Epoch 2/100\n",
      "122/122 [==============================] - 3s 25ms/step - loss: 0.8320 - accuracy: 0.5902 - val_loss: 0.6763 - val_accuracy: 0.4839\n",
      "Epoch 3/100\n",
      "122/122 [==============================] - 3s 25ms/step - loss: 0.6420 - accuracy: 0.6066 - val_loss: 0.5772 - val_accuracy: 0.7419\n",
      "Epoch 4/100\n",
      "122/122 [==============================] - 3s 25ms/step - loss: 0.4894 - accuracy: 0.8279 - val_loss: 0.4843 - val_accuracy: 0.8065\n",
      "Epoch 5/100\n",
      "122/122 [==============================] - 3s 25ms/step - loss: 0.3985 - accuracy: 0.8689 - val_loss: 0.5163 - val_accuracy: 0.8387\n",
      "Epoch 6/100\n",
      "122/122 [==============================] - 3s 25ms/step - loss: 0.3249 - accuracy: 0.8770 - val_loss: 0.5302 - val_accuracy: 0.7742\n",
      "Epoch 7/100\n",
      "122/122 [==============================] - 3s 26ms/step - loss: 0.2205 - accuracy: 0.9180 - val_loss: 0.5360 - val_accuracy: 0.7742\n",
      "Epoch 8/100\n",
      "122/122 [==============================] - 3s 26ms/step - loss: 0.2265 - accuracy: 0.8770 - val_loss: 0.6966 - val_accuracy: 0.7419\n",
      "Epoch 9/100\n",
      "122/122 [==============================] - 3s 27ms/step - loss: 0.1733 - accuracy: 0.9180 - val_loss: 0.6085 - val_accuracy: 0.8065\n",
      "Epoch 10/100\n",
      "122/122 [==============================] - 3s 27ms/step - loss: 0.1219 - accuracy: 0.9426 - val_loss: 0.6228 - val_accuracy: 0.7742\n",
      "Epoch 11/100\n",
      "122/122 [==============================] - 3s 27ms/step - loss: 0.0800 - accuracy: 0.9754 - val_loss: 0.7024 - val_accuracy: 0.8065\n",
      "Epoch 12/100\n",
      "122/122 [==============================] - 3s 27ms/step - loss: 0.0514 - accuracy: 0.9918 - val_loss: 0.8410 - val_accuracy: 0.7742\n",
      "Epoch 13/100\n",
      "122/122 [==============================] - 3s 26ms/step - loss: 0.0279 - accuracy: 1.0000 - val_loss: 0.9246 - val_accuracy: 0.8065\n",
      "Epoch 14/100\n",
      "122/122 [==============================] - 3s 27ms/step - loss: 0.0247 - accuracy: 0.9918 - val_loss: 0.9828 - val_accuracy: 0.8065\n",
      "Epoch 15/100\n",
      "122/122 [==============================] - 3s 26ms/step - loss: 0.0164 - accuracy: 1.0000 - val_loss: 1.1292 - val_accuracy: 0.7419\n",
      "Epoch 16/100\n",
      "122/122 [==============================] - 3s 26ms/step - loss: 0.0193 - accuracy: 0.9918 - val_loss: 1.0490 - val_accuracy: 0.8387\n",
      "Epoch 17/100\n",
      "122/122 [==============================] - 3s 28ms/step - loss: 0.0115 - accuracy: 1.0000 - val_loss: 1.1009 - val_accuracy: 0.8065\n",
      "Epoch 18/100\n",
      "122/122 [==============================] - 3s 28ms/step - loss: 0.0051 - accuracy: 1.0000 - val_loss: 1.2408 - val_accuracy: 0.7742\n",
      "Epoch 19/100\n",
      "122/122 [==============================] - 3s 27ms/step - loss: 0.0048 - accuracy: 1.0000 - val_loss: 1.2406 - val_accuracy: 0.7419\n",
      "Epoch 20/100\n",
      "122/122 [==============================] - 3s 27ms/step - loss: 0.0041 - accuracy: 1.0000 - val_loss: 1.2355 - val_accuracy: 0.8065\n",
      "Epoch 21/100\n",
      "122/122 [==============================] - 3s 26ms/step - loss: 0.0031 - accuracy: 1.0000 - val_loss: 1.3640 - val_accuracy: 0.7742\n",
      "Epoch 22/100\n",
      "122/122 [==============================] - 3s 26ms/step - loss: 0.0025 - accuracy: 1.0000 - val_loss: 1.4077 - val_accuracy: 0.8065\n",
      "Epoch 23/100\n",
      "122/122 [==============================] - 3s 26ms/step - loss: 0.0017 - accuracy: 1.0000 - val_loss: 1.3859 - val_accuracy: 0.8065\n",
      "Epoch 24/100\n",
      "122/122 [==============================] - 3s 26ms/step - loss: 0.0017 - accuracy: 1.0000 - val_loss: 1.4306 - val_accuracy: 0.8065\n",
      "Epoch 25/100\n",
      "122/122 [==============================] - 3s 27ms/step - loss: 0.0011 - accuracy: 1.0000 - val_loss: 1.4905 - val_accuracy: 0.8065\n",
      "Epoch 26/100\n",
      "122/122 [==============================] - 3s 27ms/step - loss: 8.3848e-04 - accuracy: 1.0000 - val_loss: 1.5285 - val_accuracy: 0.8065\n",
      "Epoch 27/100\n",
      "122/122 [==============================] - 3s 27ms/step - loss: 7.4657e-04 - accuracy: 1.0000 - val_loss: 1.5519 - val_accuracy: 0.8065\n",
      "Epoch 28/100\n",
      "122/122 [==============================] - 3s 26ms/step - loss: 6.8385e-04 - accuracy: 1.0000 - val_loss: 1.5883 - val_accuracy: 0.8065\n",
      "Epoch 29/100\n",
      "122/122 [==============================] - 3s 26ms/step - loss: 5.8952e-04 - accuracy: 1.0000 - val_loss: 1.6235 - val_accuracy: 0.8065\n",
      "Epoch 30/100\n",
      "122/122 [==============================] - 3s 27ms/step - loss: 5.6964e-04 - accuracy: 1.0000 - val_loss: 1.6463 - val_accuracy: 0.8065\n",
      "Epoch 31/100\n",
      "122/122 [==============================] - 3s 27ms/step - loss: 4.3216e-04 - accuracy: 1.0000 - val_loss: 1.6847 - val_accuracy: 0.8065\n",
      "Epoch 32/100\n",
      "122/122 [==============================] - 3s 26ms/step - loss: 4.7070e-04 - accuracy: 1.0000 - val_loss: 1.7202 - val_accuracy: 0.8065\n",
      "Epoch 33/100\n",
      "122/122 [==============================] - 3s 27ms/step - loss: 3.4751e-04 - accuracy: 1.0000 - val_loss: 1.7307 - val_accuracy: 0.8065\n",
      "Epoch 34/100\n",
      "122/122 [==============================] - 3s 26ms/step - loss: 3.1760e-04 - accuracy: 1.0000 - val_loss: 1.7722 - val_accuracy: 0.8065\n",
      "Epoch 35/100\n",
      "122/122 [==============================] - 3s 28ms/step - loss: 2.5906e-04 - accuracy: 1.0000 - val_loss: 1.7920 - val_accuracy: 0.8065\n",
      "Epoch 36/100\n",
      "122/122 [==============================] - 3s 28ms/step - loss: 2.8623e-04 - accuracy: 1.0000 - val_loss: 1.7980 - val_accuracy: 0.8065\n",
      "Epoch 37/100\n",
      "122/122 [==============================] - 4s 29ms/step - loss: 2.3215e-04 - accuracy: 1.0000 - val_loss: 1.8067 - val_accuracy: 0.8065\n",
      "Epoch 38/100\n",
      "122/122 [==============================] - 4s 29ms/step - loss: 2.3384e-04 - accuracy: 1.0000 - val_loss: 1.8188 - val_accuracy: 0.8065\n",
      "Epoch 39/100\n",
      "122/122 [==============================] - 3s 28ms/step - loss: 1.8755e-04 - accuracy: 1.0000 - val_loss: 1.8418 - val_accuracy: 0.8065\n",
      "Epoch 40/100\n",
      "122/122 [==============================] - 3s 27ms/step - loss: 2.0404e-04 - accuracy: 1.0000 - val_loss: 1.8566 - val_accuracy: 0.8065\n",
      "Epoch 41/100\n",
      "122/122 [==============================] - 3s 27ms/step - loss: 1.8562e-04 - accuracy: 1.0000 - val_loss: 1.8766 - val_accuracy: 0.8065\n",
      "Epoch 42/100\n",
      "122/122 [==============================] - 3s 27ms/step - loss: 1.9638e-04 - accuracy: 1.0000 - val_loss: 1.8829 - val_accuracy: 0.8065\n",
      "Epoch 43/100\n",
      "122/122 [==============================] - 3s 26ms/step - loss: 1.7474e-04 - accuracy: 1.0000 - val_loss: 1.8915 - val_accuracy: 0.8065\n",
      "Epoch 44/100\n",
      "122/122 [==============================] - 3s 26ms/step - loss: 1.6277e-04 - accuracy: 1.0000 - val_loss: 1.9058 - val_accuracy: 0.8065\n",
      "Epoch 45/100\n",
      "122/122 [==============================] - 3s 26ms/step - loss: 1.6881e-04 - accuracy: 1.0000 - val_loss: 1.9186 - val_accuracy: 0.8065\n",
      "Epoch 46/100\n",
      "122/122 [==============================] - 3s 26ms/step - loss: 1.4269e-04 - accuracy: 1.0000 - val_loss: 1.9451 - val_accuracy: 0.8065\n",
      "Epoch 47/100\n",
      "122/122 [==============================] - 3s 26ms/step - loss: 1.2200e-04 - accuracy: 1.0000 - val_loss: 1.9658 - val_accuracy: 0.7742\n",
      "Epoch 48/100\n",
      "122/122 [==============================] - 3s 26ms/step - loss: 1.3458e-04 - accuracy: 1.0000 - val_loss: 1.9734 - val_accuracy: 0.7742\n",
      "Epoch 49/100\n",
      "122/122 [==============================] - 3s 27ms/step - loss: 1.4220e-04 - accuracy: 1.0000 - val_loss: 1.9865 - val_accuracy: 0.7742\n",
      "Epoch 50/100\n",
      "122/122 [==============================] - 3s 26ms/step - loss: 1.7057e-04 - accuracy: 1.0000 - val_loss: 1.9868 - val_accuracy: 0.7742\n",
      "Epoch 51/100\n",
      "122/122 [==============================] - 3s 28ms/step - loss: 1.0398e-04 - accuracy: 1.0000 - val_loss: 1.9655 - val_accuracy: 0.8065\n",
      "Epoch 52/100\n",
      "122/122 [==============================] - 3s 27ms/step - loss: 9.4926e-05 - accuracy: 1.0000 - val_loss: 1.9675 - val_accuracy: 0.8065\n",
      "Epoch 53/100\n",
      "122/122 [==============================] - 3s 28ms/step - loss: 9.5763e-05 - accuracy: 1.0000 - val_loss: 1.9909 - val_accuracy: 0.8065\n",
      "Epoch 54/100\n",
      "122/122 [==============================] - 4s 30ms/step - loss: 8.6968e-05 - accuracy: 1.0000 - val_loss: 2.0200 - val_accuracy: 0.8065\n",
      "Epoch 55/100\n",
      "122/122 [==============================] - 3s 28ms/step - loss: 7.7689e-05 - accuracy: 1.0000 - val_loss: 2.0351 - val_accuracy: 0.7742\n",
      "Epoch 56/100\n"
     ]
    },
    {
     "name": "stdout",
     "output_type": "stream",
     "text": [
      "122/122 [==============================] - 3s 26ms/step - loss: 7.8359e-05 - accuracy: 1.0000 - val_loss: 2.0381 - val_accuracy: 0.8065\n",
      "Epoch 57/100\n",
      "122/122 [==============================] - 4s 29ms/step - loss: 1.0076e-04 - accuracy: 1.0000 - val_loss: 2.0445 - val_accuracy: 0.8065\n",
      "Epoch 58/100\n",
      "122/122 [==============================] - 3s 28ms/step - loss: 7.8183e-05 - accuracy: 1.0000 - val_loss: 2.0528 - val_accuracy: 0.7742\n",
      "Epoch 59/100\n",
      "122/122 [==============================] - 3s 28ms/step - loss: 7.8884e-05 - accuracy: 1.0000 - val_loss: 2.0713 - val_accuracy: 0.7742\n",
      "Epoch 60/100\n",
      "122/122 [==============================] - 3s 26ms/step - loss: 8.9725e-05 - accuracy: 1.0000 - val_loss: 2.0669 - val_accuracy: 0.8065\n",
      "Epoch 61/100\n",
      "122/122 [==============================] - 3s 27ms/step - loss: 6.1777e-05 - accuracy: 1.0000 - val_loss: 2.0831 - val_accuracy: 0.8065\n",
      "Epoch 62/100\n",
      "122/122 [==============================] - 3s 27ms/step - loss: 6.2457e-05 - accuracy: 1.0000 - val_loss: 2.1076 - val_accuracy: 0.8065\n",
      "Epoch 63/100\n",
      "122/122 [==============================] - 3s 29ms/step - loss: 5.2578e-05 - accuracy: 1.0000 - val_loss: 2.1338 - val_accuracy: 0.8065\n",
      "Epoch 64/100\n",
      "122/122 [==============================] - 3s 28ms/step - loss: 4.9045e-05 - accuracy: 1.0000 - val_loss: 2.1529 - val_accuracy: 0.8065\n",
      "Epoch 65/100\n",
      "122/122 [==============================] - 3s 27ms/step - loss: 5.4276e-05 - accuracy: 1.0000 - val_loss: 2.1586 - val_accuracy: 0.8065\n",
      "Epoch 66/100\n",
      "122/122 [==============================] - 3s 27ms/step - loss: 5.3738e-05 - accuracy: 1.0000 - val_loss: 2.1642 - val_accuracy: 0.8065\n",
      "Epoch 67/100\n",
      "122/122 [==============================] - 3s 26ms/step - loss: 4.0084e-05 - accuracy: 1.0000 - val_loss: 2.1789 - val_accuracy: 0.8065\n",
      "Epoch 68/100\n",
      "122/122 [==============================] - 3s 27ms/step - loss: 4.1648e-05 - accuracy: 1.0000 - val_loss: 2.1904 - val_accuracy: 0.8065\n",
      "Epoch 69/100\n",
      "122/122 [==============================] - 3s 27ms/step - loss: 4.4625e-05 - accuracy: 1.0000 - val_loss: 2.1967 - val_accuracy: 0.8065\n",
      "Epoch 70/100\n",
      "122/122 [==============================] - 3s 26ms/step - loss: 3.8841e-05 - accuracy: 1.0000 - val_loss: 2.1974 - val_accuracy: 0.8065\n",
      "Epoch 71/100\n",
      "122/122 [==============================] - 3s 26ms/step - loss: 3.9365e-05 - accuracy: 1.0000 - val_loss: 2.2084 - val_accuracy: 0.8065\n",
      "Epoch 72/100\n",
      "122/122 [==============================] - 3s 27ms/step - loss: 3.0687e-05 - accuracy: 1.0000 - val_loss: 2.2233 - val_accuracy: 0.8065\n",
      "Epoch 73/100\n",
      "122/122 [==============================] - 3s 26ms/step - loss: 3.7085e-05 - accuracy: 1.0000 - val_loss: 2.2368 - val_accuracy: 0.8065\n",
      "Epoch 74/100\n",
      "122/122 [==============================] - 3s 26ms/step - loss: 2.9307e-05 - accuracy: 1.0000 - val_loss: 2.2513 - val_accuracy: 0.8065\n",
      "Epoch 75/100\n",
      "122/122 [==============================] - 3s 26ms/step - loss: 3.3294e-05 - accuracy: 1.0000 - val_loss: 2.2592 - val_accuracy: 0.8065\n",
      "Epoch 76/100\n",
      "122/122 [==============================] - 3s 26ms/step - loss: 3.5488e-05 - accuracy: 1.0000 - val_loss: 2.2705 - val_accuracy: 0.8065\n",
      "Epoch 77/100\n",
      "122/122 [==============================] - 3s 27ms/step - loss: 2.9712e-05 - accuracy: 1.0000 - val_loss: 2.2755 - val_accuracy: 0.8065\n",
      "Epoch 78/100\n",
      "122/122 [==============================] - 3s 27ms/step - loss: 2.7116e-05 - accuracy: 1.0000 - val_loss: 2.2860 - val_accuracy: 0.8065\n",
      "Epoch 79/100\n",
      "122/122 [==============================] - 4s 30ms/step - loss: 3.1375e-05 - accuracy: 1.0000 - val_loss: 2.2924 - val_accuracy: 0.8065\n",
      "Epoch 80/100\n",
      "122/122 [==============================] - 3s 28ms/step - loss: 2.5534e-05 - accuracy: 1.0000 - val_loss: 2.2854 - val_accuracy: 0.8065\n",
      "Epoch 81/100\n",
      "122/122 [==============================] - 3s 28ms/step - loss: 3.0545e-05 - accuracy: 1.0000 - val_loss: 2.2869 - val_accuracy: 0.8065\n",
      "Epoch 82/100\n",
      "122/122 [==============================] - 3s 27ms/step - loss: 2.5165e-05 - accuracy: 1.0000 - val_loss: 2.2970 - val_accuracy: 0.8065\n",
      "Epoch 83/100\n",
      "122/122 [==============================] - 3s 27ms/step - loss: 2.4670e-05 - accuracy: 1.0000 - val_loss: 2.3120 - val_accuracy: 0.8065\n",
      "Epoch 84/100\n",
      "122/122 [==============================] - 3s 27ms/step - loss: 2.6412e-05 - accuracy: 1.0000 - val_loss: 2.3199 - val_accuracy: 0.8065\n",
      "Epoch 85/100\n",
      "122/122 [==============================] - 3s 27ms/step - loss: 2.0865e-05 - accuracy: 1.0000 - val_loss: 2.3187 - val_accuracy: 0.8065\n",
      "Epoch 86/100\n",
      "122/122 [==============================] - 3s 26ms/step - loss: 2.1298e-05 - accuracy: 1.0000 - val_loss: 2.3211 - val_accuracy: 0.8065\n",
      "Epoch 87/100\n",
      "122/122 [==============================] - 3s 26ms/step - loss: 2.9410e-05 - accuracy: 1.0000 - val_loss: 2.3405 - val_accuracy: 0.8065\n",
      "Epoch 88/100\n",
      "122/122 [==============================] - 3s 26ms/step - loss: 2.8272e-05 - accuracy: 1.0000 - val_loss: 2.3314 - val_accuracy: 0.8065\n",
      "Epoch 89/100\n",
      "122/122 [==============================] - 3s 26ms/step - loss: 2.4701e-05 - accuracy: 1.0000 - val_loss: 2.3280 - val_accuracy: 0.8065\n",
      "Epoch 90/100\n",
      "122/122 [==============================] - 3s 26ms/step - loss: 2.0764e-05 - accuracy: 1.0000 - val_loss: 2.3326 - val_accuracy: 0.8065\n",
      "Epoch 91/100\n",
      "122/122 [==============================] - 3s 26ms/step - loss: 2.1971e-05 - accuracy: 1.0000 - val_loss: 2.3504 - val_accuracy: 0.8065\n",
      "Epoch 92/100\n",
      "122/122 [==============================] - 3s 26ms/step - loss: 2.5900e-05 - accuracy: 1.0000 - val_loss: 2.3585 - val_accuracy: 0.8065\n",
      "Epoch 93/100\n",
      "122/122 [==============================] - 3s 26ms/step - loss: 2.0490e-05 - accuracy: 1.0000 - val_loss: 2.3546 - val_accuracy: 0.8065\n",
      "Epoch 94/100\n",
      "122/122 [==============================] - 3s 26ms/step - loss: 1.9893e-05 - accuracy: 1.0000 - val_loss: 2.3767 - val_accuracy: 0.7742\n",
      "Epoch 95/100\n",
      "122/122 [==============================] - 3s 26ms/step - loss: 2.1330e-05 - accuracy: 1.0000 - val_loss: 2.3806 - val_accuracy: 0.7742\n",
      "Epoch 96/100\n",
      "122/122 [==============================] - 3s 27ms/step - loss: 2.3092e-05 - accuracy: 1.0000 - val_loss: 2.3752 - val_accuracy: 0.8065\n",
      "Epoch 97/100\n",
      "122/122 [==============================] - 3s 26ms/step - loss: 1.8199e-05 - accuracy: 1.0000 - val_loss: 2.3788 - val_accuracy: 0.8065\n",
      "Epoch 98/100\n",
      "122/122 [==============================] - 3s 26ms/step - loss: 1.6276e-05 - accuracy: 1.0000 - val_loss: 2.3876 - val_accuracy: 0.8065\n",
      "Epoch 99/100\n",
      "122/122 [==============================] - 3s 26ms/step - loss: 1.8474e-05 - accuracy: 1.0000 - val_loss: 2.4019 - val_accuracy: 0.8065\n",
      "Epoch 100/100\n",
      "122/122 [==============================] - 3s 26ms/step - loss: 2.2171e-05 - accuracy: 1.0000 - val_loss: 2.4012 - val_accuracy: 0.8065\n"
     ]
    }
   ],
   "source": [
    "# Training CNN\n",
    "cnn1 = cnn.fit(X_train,\n",
    "               y_train,\n",
    "               epochs=100,\n",
    "               validation_data=(X_val, y_val))"
   ]
  },
  {
   "cell_type": "code",
   "execution_count": null,
   "metadata": {},
   "outputs": [],
   "source": [
    "#CNN Model Summary\n",
    "print(cnn.summary())"
   ]
  },
  {
   "cell_type": "code",
   "execution_count": 59,
   "metadata": {},
   "outputs": [
    {
     "data": {
      "image/png": "[encoded data removed]",
      "text/plain": [
       "<Figure size 1080x288 with 2 Axes>"
      ]
     },
     "metadata": {
      "needs_background": "light"
     },
     "output_type": "display_data"
    }
   ],
   "source": [
    "#Extracting CNN Results for Visualization\n",
    "hist_cnn = cnn1.history\n",
    "loss_values = hist_cnn['loss']\n",
    "val_loss_values = hist_cnn['val_loss']\n",
    "acc_values = hist_cnn['accuracy'] \n",
    "val_acc_values = hist_cnn['val_accuracy']\n",
    "\n",
    "\n",
    "epochs = range(1, len(loss_values) + 1)\n",
    "\n",
    "plt.figure(figsize=(15,4))\n",
    "plt.subplot(121)\n",
    "plt.plot(epochs, loss_values, 'g.', label='Training loss')\n",
    "plt.plot(epochs, val_loss_values, 'g', label='Validation loss')\n",
    "\n",
    "plt.title('Training and validation loss - 2-Layer CNN')\n",
    "plt.xlabel('Epochs')\n",
    "plt.ylabel('Loss')\n",
    "plt.legend()\n",
    "\n",
    "plt.subplot(122)\n",
    "plt.plot(epochs, acc_values, 'r.', label='Training acc')\n",
    "plt.plot(epochs, val_acc_values, 'r', label='Validation acc')\n",
    "plt.title('Training and validation accuracy - 2-Layer CNN')\n",
    "plt.xlabel('Epochs')\n",
    "plt.ylabel('Accuracy')\n",
    "plt.legend()\n",
    "# plt.savefig('Images/Model/cnn1.png')\n",
    "plt.show()"
   ]
  },
  {
   "cell_type": "code",
   "execution_count": null,
   "metadata": {},
   "outputs": [],
   "source": [
    "#CNN Metrics\n",
    "results_train = cnn.evaluate(X_train, y_train)\n",
    "results_test = cnn.evaluate(X_test, y_test)\n",
    "print()\n",
    "print('CNN [Loss, Accuracy]')\n",
    "print('CNN TRAIN IMAGES: ', results_train)\n",
    "print()\n",
    "print('CNN TEST IMAGES: ', results_test)"
   ]
  },
  {
   "cell_type": "markdown",
   "metadata": {},
   "source": [
    "## 2-Layer CNN with Transfer Learning (InceptionV3)"
   ]
  },
  {
   "cell_type": "code",
   "execution_count": null,
   "metadata": {},
   "outputs": [],
   "source": [
    "#Importing model with weights pre-trained on ImageNet\n",
    "from keras.applications import inception_v3\n",
    "from keras.layers import Dense,GlobalAveragePooling2D\n",
    "from sklearn.metrics import confusion_matrix, f1_score\n",
    "from keras.models import Model"
   ]
  },
  {
   "cell_type": "code",
   "execution_count": null,
   "metadata": {},
   "outputs": [],
   "source": [
    "#Utilizing InceptionV3 for new CNN\n",
    "imagenet=inception_v3.InceptionV3(weights='imagenet',include_top=False)\n",
    "imagenet_new=imagenet.output\n",
    "cnn2 = models.Sequential()\n",
    "cnn2.add(imagenet)\n",
    "cnn2.add(GlobalAveragePooling2D())\n",
    "cnn2.add(Dense(1024,activation='relu'))\n",
    "cnn2.add(Dropout(p = 0.1))\n",
    "cnn2.add(Dense(1024,activation='relu')) #dense layer 2\n",
    "cnn2.add(Dropout(p = 0.1))\n",
    "cnn2.add(Dense(512,activation='relu')) #dense layer 3\n",
    "cnn2.add(Dropout(p = 0.1))\n",
    "cnn2.add(Dense(1,activation='sigmoid')) #final layer with softmax activation"
   ]
  },
  {
   "cell_type": "code",
   "execution_count": null,
   "metadata": {},
   "outputs": [],
   "source": [
    "#Ensuring exracted model is not retrained\n",
    "for layer in cnn2.layers[:1]:\n",
    "    layer.trainable=False"
   ]
  },
  {
   "cell_type": "code",
   "execution_count": null,
   "metadata": {},
   "outputs": [],
   "source": [
    "cnn2.compile(optimizer='Adam',loss='binary_crossentropy',metrics=['accuracy'])\n",
    "\n",
    "tl_cnn2 = cnn2.fit(data_train,\n",
    "                   \n",
    "                   epochs=50,\n",
    "                   \n",
    "                   validation_data=data_test)"
   ]
  },
  {
   "cell_type": "code",
   "execution_count": null,
   "metadata": {},
   "outputs": [],
   "source": [
    "cnn2.evaluate(X_test, y_test)"
   ]
  },
  {
   "cell_type": "code",
   "execution_count": null,
   "metadata": {},
   "outputs": [],
   "source": [
    "predictions_transfer = cnn2.predict(X_test)\n",
    "predictions_transfer = np.around(predictions_transfer)"
   ]
  },
  {
   "cell_type": "code",
   "execution_count": null,
   "metadata": {},
   "outputs": [],
   "source": [
    "f1_score(y_test, predictions_transfer)"
   ]
  },
  {
   "cell_type": "code",
   "execution_count": null,
   "metadata": {},
   "outputs": [],
   "source": [
    "import itertools\n",
    "\n",
    "def plot_confusion_matrix(cm, classes,\n",
    "                          normalize=False,\n",
    "                          title='Confusion matrix',\n",
    "                          cmap=plt.cm.Blues):\n",
    "    \"\"\"\n",
    "    This function prints and plots the confusion matrix.\n",
    "    Normalization can be applied by setting `normalize=True`.\n",
    "    \"\"\"\n",
    "    if normalize:\n",
    "        cm = cm.astype('float') / cm.sum(axis=1)[:, np.newaxis]\n",
    "        print(\"Normalized confusion matrix\")\n",
    "    else:\n",
    "        print('Confusion matrix, without normalization')\n",
    "\n",
    "    print(cm)\n",
    "\n",
    "    plt.imshow(cm, interpolation='nearest', cmap=cmap)\n",
    "    plt.title(title)\n",
    "    plt.colorbar()\n",
    "    tick_marks = np.arange(len(classes))\n",
    "    plt.xticks(tick_marks, classes, rotation=45)\n",
    "    plt.yticks(tick_marks, classes)\n",
    "\n",
    "    fmt = '.2f' if normalize else 'd'\n",
    "    thresh = cm.max() / 2.\n",
    "    for i, j in itertools.product(range(cm.shape[0]), range(cm.shape[1])):\n",
    "        plt.text(j, i, format(cm[i, j], fmt),\n",
    "                 horizontalalignment=\"center\",\n",
    "                 color=\"white\" if cm[i, j] > thresh else \"black\")\n",
    "\n",
    "    plt.ylabel('True label')\n",
    "    plt.xlabel('Predicted label')\n",
    "    plt.tight_layout()"
   ]
  },
  {
   "cell_type": "code",
   "execution_count": null,
   "metadata": {},
   "outputs": [],
   "source": [
    "plt.figure()\n",
    "plot_confusion_matrix(confusion_matrix(y_test, predictions_transfer), classes=['Organic', 'Recyclable'], normalize=False,\n",
    "                      title='Confusion matrix - ImagenetV3')\n",
    "# plt.savefig('Images/Model/CF_TL1.png')\n",
    "plt.show()"
   ]
  },
  {
   "cell_type": "code",
   "execution_count": null,
   "metadata": {},
   "outputs": [],
   "source": [
    "#Extracting CNN Results for Visualization\n",
    "hist_cnn = tl_cnn2.history\n",
    "loss_values = hist_cnn['loss']\n",
    "val_loss_values = hist_cnn['val_loss']\n",
    "acc_values = hist_cnn['accuracy'] \n",
    "val_acc_values = hist_cnn['val_accuracy']\n",
    "\n",
    "\n",
    "epochs = range(1, len(loss_values) + 1)\n",
    "\n",
    "plt.figure(figsize=(15,4))\n",
    "plt.subplot(121)\n",
    "plt.plot(epochs, loss_values, 'g.', label='Training loss')\n",
    "plt.plot(epochs, val_loss_values, 'g', label='Validation loss')\n",
    "\n",
    "plt.title('Training and validation loss - Inception V3')\n",
    "plt.xlabel('Epochs')\n",
    "plt.ylabel('Loss')\n",
    "plt.legend()\n",
    "\n",
    "plt.subplot(122)\n",
    "plt.plot(epochs, acc_values, 'r.', label='Training acc')\n",
    "plt.plot(epochs, val_acc_values, 'r', label='Validation acc')\n",
    "plt.title('Training and validation accuracy - Inception V3')\n",
    "plt.xlabel('Epochs')\n",
    "plt.ylabel('Accuracy')\n",
    "plt.legend()\n",
    "# plt.savefig('Images/Model/cnn2.png')\n",
    "plt.show()"
   ]
  },
  {
   "cell_type": "code",
   "execution_count": null,
   "metadata": {},
   "outputs": [],
   "source": [
    "def predictoneimage_cnn(model, path):\n",
    "    img = load_img(path, target_size=(224, 224))\n",
    "    plt.imshow(img)\n",
    "    img = img_to_array(img)\n",
    "    img = img/255\n",
    "    img = np.expand_dims(img, axis=0)\n",
    "    predict = model.predict(img)\n",
    "    return predict"
   ]
  },
  {
   "cell_type": "code",
   "execution_count": null,
   "metadata": {},
   "outputs": [],
   "source": [
    "predictoneimage_cnn(cnn2, 'Images/Sample_Images/styro.jpg')"
   ]
  },
  {
   "cell_type": "code",
   "execution_count": null,
   "metadata": {},
   "outputs": [],
   "source": [
    "predictoneimage_cnn(cnn, 'Images/Sample_Images/styro.jpg')"
   ]
  },
  {
   "cell_type": "code",
   "execution_count": null,
   "metadata": {},
   "outputs": [],
   "source": [
    "#Saving Models\n",
    "# cnn.save('image_class1_v2.h5')\n",
    "# cnn2.save('image_class1_tl_v2.h5')"
   ]
  },
  {
   "cell_type": "markdown",
   "metadata": {},
   "source": [
    "## 3 Layer CNN"
   ]
  },
  {
   "cell_type": "code",
   "execution_count": null,
   "metadata": {},
   "outputs": [],
   "source": [
    "cnn3 = models.Sequential()\n",
    "\n",
    "#1st Layer\n",
    "cnn3.add(layers.Conv2D(128, (3, 3), input_shape=(224, 224,  3), padding='SAME'))\n",
    "cnn3.add(layers.Activation('relu'))\n",
    "cnn3.add(layers.MaxPooling2D(pool_size=(2, 2)))\n",
    "cnn3.add(Dropout(p = 0.1))\n",
    "\n",
    "#2nd Layer\n",
    "cnn3.add(layers.Conv2D(64, (3, 3)))\n",
    "cnn3.add(layers.Activation('relu'))\n",
    "cnn3.add(layers.MaxPooling2D(pool_size=(2, 2)))\n",
    "cnn3.add(Dropout(p = 0.1))\n",
    "\n",
    "#3rd Layer\n",
    "cnn3.add(layers.Conv2D(32, (3, 3)))\n",
    "cnn3.add(layers.Activation('relu'))\n",
    "cnn3.add(layers.MaxPooling2D(pool_size=(2, 2)))\n",
    "cnn3.add(Dropout(p = 0.1))\n",
    "\n",
    "#Dense and output Layers\n",
    "cnn3.add(layers.Flatten())\n",
    "cnn3.add(layers.Dense(32))\n",
    "cnn3.add(layers.Activation('relu'))\n",
    "cnn3.add(layers.Dropout(0.5))\n",
    "cnn3.add(layers.Dense(1))\n",
    "cnn3.add(layers.Activation('sigmoid'))\n",
    "\n",
    "#Configuring the model\n",
    "cnn3.compile(loss='binary_crossentropy',\n",
    "              optimizer='rmsprop',\n",
    "              metrics=['accuracy'])"
   ]
  },
  {
   "cell_type": "code",
   "execution_count": null,
   "metadata": {
    "scrolled": false
   },
   "outputs": [],
   "source": [
    "cnn_3l = cnn3.fit(X_train,\n",
    "                  y_train,\n",
    "                  epochs=50,\n",
    "                  batch_size=32,\n",
    "                  validation_data=(X_val, y_val))"
   ]
  },
  {
   "cell_type": "code",
   "execution_count": null,
   "metadata": {},
   "outputs": [],
   "source": [
    "print(cnn3.summary())"
   ]
  },
  {
   "cell_type": "code",
   "execution_count": null,
   "metadata": {},
   "outputs": [],
   "source": [
    "#Extracting CNN Results for Visualization\n",
    "hist_cnn = cnn_3l.history\n",
    "loss_values = hist_cnn['loss']\n",
    "val_loss_values = hist_cnn['val_loss']\n",
    "acc_values = hist_cnn['accuracy'] \n",
    "val_acc_values = hist_cnn['val_accuracy']\n",
    "\n",
    "\n",
    "epochs = range(1, len(loss_values) + 1)\n",
    "\n",
    "plt.figure(figsize=(15,4))\n",
    "plt.subplot(121)\n",
    "plt.plot(epochs, loss_values, 'g.', label='Training loss')\n",
    "plt.plot(epochs, val_loss_values, 'g', label='Validation loss')\n",
    "\n",
    "plt.title('Training and validation loss - 3-Layer CNN')\n",
    "plt.xlabel('Epochs')\n",
    "plt.ylabel('Loss')\n",
    "plt.legend()\n",
    "\n",
    "plt.subplot(122)\n",
    "plt.plot(epochs, acc_values, 'r.', label='Training acc')\n",
    "plt.plot(epochs, val_acc_values, 'r', label='Validation acc')\n",
    "plt.title('Training and validation accuracy - 3-Layer CNN')\n",
    "plt.xlabel('Epochs')\n",
    "plt.ylabel('Accuracy')\n",
    "plt.legend()\n",
    "#plt.savefig('Images/Model/cnn3.png')\n",
    "plt.show()"
   ]
  },
  {
   "cell_type": "code",
   "execution_count": null,
   "metadata": {},
   "outputs": [],
   "source": [
    "cnn3.save('image_class2_3l_v2.h5')"
   ]
  },
  {
   "cell_type": "markdown",
   "metadata": {},
   "source": [
    "## 3-Layer CNN with Transfer Learning (Xception)"
   ]
  },
  {
   "cell_type": "code",
   "execution_count": null,
   "metadata": {},
   "outputs": [],
   "source": [
    "#Importing pre-trained model\n",
    "from keras.applications import xception"
   ]
  },
  {
   "cell_type": "code",
   "execution_count": null,
   "metadata": {},
   "outputs": [],
   "source": [
    "#Creating pre-trained CNN Model\n",
    "imagenet2 = xception.Xception(input_shape=(224, 224, 3), weights='imagenet', include_top=False)\n",
    "imagenet2_res = imagenet2.output\n",
    "cnn3_tl = models.Sequential()\n",
    "cnn3_tl.add(imagenet2)\n",
    "cnn3_tl.add(GlobalAveragePooling2D())\n",
    "cnn3_tl.add(Dense(1024,activation='relu'))\n",
    "cnn3_tl.add(Dense(1024,activation='relu')) \n",
    "cnn3_tl.add(Dense(512,activation='relu')) \n",
    "cnn3_tl.add(Dense(1,activation='sigmoid'))"
   ]
  },
  {
   "cell_type": "code",
   "execution_count": null,
   "metadata": {},
   "outputs": [],
   "source": [
    "#Ensuring exracted model is not retrained\n",
    "for layer in cnn3_tl.layers[:1]:\n",
    "    layer.trainable=False"
   ]
  },
  {
   "cell_type": "code",
   "execution_count": null,
   "metadata": {},
   "outputs": [],
   "source": [
    "cnn3_tl.compile(optimizer='Adam',loss='binary_crossentropy',metrics=['accuracy'])\n",
    "\n",
    "tl_cnn3 = cnn3_tl.fit(X_train,\n",
    "                      y_train,\n",
    "                      epochs=10,\n",
    "                      batch_size=50,\n",
    "                      validation_data=(X_val, y_val))"
   ]
  },
  {
   "cell_type": "code",
   "execution_count": null,
   "metadata": {},
   "outputs": [],
   "source": [
    "print(cnn3_tl.summary())"
   ]
  },
  {
   "cell_type": "code",
   "execution_count": null,
   "metadata": {},
   "outputs": [],
   "source": [
    "#Extracting CNN Results for Visualization\n",
    "hist_cnn = tl_cnn3.history\n",
    "loss_values = hist_cnn['loss']\n",
    "val_loss_values = hist_cnn['val_loss']\n",
    "acc_values = hist_cnn['accuracy'] \n",
    "val_acc_values = hist_cnn['val_accuracy']\n",
    "\n",
    "\n",
    "epochs = range(1, len(loss_values) + 1)\n",
    "\n",
    "plt.figure(figsize=(15,4))\n",
    "plt.subplot(121)\n",
    "plt.plot(epochs, loss_values, 'g.', label='Training loss')\n",
    "plt.plot(epochs, val_loss_values, 'g', label='Validation loss')\n",
    "\n",
    "plt.title('Training and validation loss - Xception Model')\n",
    "plt.xlabel('Epochs')\n",
    "plt.ylabel('Loss')\n",
    "plt.legend()\n",
    "\n",
    "plt.subplot(122)\n",
    "plt.plot(epochs, acc_values, 'r.', label='Training acc')\n",
    "plt.plot(epochs, val_acc_values, 'r', label='Validation acc')\n",
    "plt.title('Training and validation accuracy - Xception Model')\n",
    "plt.xlabel('Epochs')\n",
    "plt.ylabel('Accuracy')\n",
    "plt.legend()\n",
    "# plt.savefig('Images/Model/cnn3_tl.png')\n",
    "plt.show()"
   ]
  },
  {
   "cell_type": "code",
   "execution_count": null,
   "metadata": {},
   "outputs": [],
   "source": [
    "#Check if it can classify a confusing image of styrofoam ball\n",
    "predictoneimage_cnn(cnn3_tl, 'Images/Sample_Images/styro.jpg')"
   ]
  },
  {
   "cell_type": "code",
   "execution_count": null,
   "metadata": {},
   "outputs": [],
   "source": [
    "#Checking the Robot\n",
    "predictoneimage_cnn(cnn3_tl, 'Images/Sample_Images/robot.jpg')"
   ]
  },
  {
   "cell_type": "code",
   "execution_count": null,
   "metadata": {},
   "outputs": [],
   "source": [
    "# cnn3_tl.save('image_class2_3l_tl_v2.h5')"
   ]
  },
  {
   "cell_type": "code",
   "execution_count": null,
   "metadata": {},
   "outputs": [],
   "source": [
    "def image_predictor(path):\n",
    "    img = load_img(path, target_size=(224, 224))\n",
    "    plt.imshow(img)\n",
    "    img = img_to_array(img)\n",
    "    img = img/255\n",
    "    img = np.expand_dims(img, axis=0)    \n",
    "    pred1 = cnn.predict(img)\n",
    "    pred2 = cnn3.predict(img)\n",
    "    pred3 = cnn2.predict(img)\n",
    "    pred4 = cnn3_tl.predict(img)\n",
    "    return pred1, pred2, pred3, pred4"
   ]
  },
  {
   "cell_type": "code",
   "execution_count": null,
   "metadata": {},
   "outputs": [],
   "source": [
    "def predictor_output(path):\n",
    "    mod1, mod2, mod3, mod4 = image_predictor(path)\n",
    "    print('VALUE Interpretation:')\n",
    "    print()\n",
    "    print('Closer to 1 is Organic, Closer to 0 is Recyclable')\n",
    "    print()\n",
    "    print('2-LAYER CNN:')\n",
    "    print(mod1)\n",
    "    print()\n",
    "    print('3-Layer CNN:')\n",
    "    print(mod2)\n",
    "    print()\n",
    "    print('Inception ver3 CNN')\n",
    "    print(mod3)\n",
    "    print()\n",
    "    print('Xception CNN')\n",
    "    print(mod4)"
   ]
  },
  {
   "cell_type": "code",
   "execution_count": null,
   "metadata": {},
   "outputs": [],
   "source": [
    "#Sample Prediction\n",
    "predictor_output('Images/Sample_Images/robot.jpg')"
   ]
  },
  {
   "cell_type": "code",
   "execution_count": null,
   "metadata": {},
   "outputs": [],
   "source": []
  }
 ],
 "metadata": {
  "kernelspec": {
   "display_name": "Python 3",
   "language": "python",
   "name": "python3"
  },
  "language_info": {
   "codemirror_mode": {
    "name": "ipython",
    "version": 3
   },
   "file_extension": ".py",
   "mimetype": "text/x-python",
   "name": "python",
   "nbconvert_exporter": "python",
   "pygments_lexer": "ipython3",
   "version": "3.7.3"
  }
 },
 "nbformat": 4,
 "nbformat_minor": 2
}
