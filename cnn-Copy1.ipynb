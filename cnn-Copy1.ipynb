{
 "cells": [
  {
   "cell_type": "code",
   "execution_count": 1,
   "metadata": {},
   "outputs": [
    {
     "name": "stderr",
     "output_type": "stream",
     "text": [
      "Using TensorFlow backend.\n",
      "/home/allankim/anaconda3/lib/python3.7/site-packages/tensorflow/python/framework/dtypes.py:516: FutureWarning: Passing (type, 1) or '1type' as a synonym of type is deprecated; in a future version of numpy, it will be understood as (type, (1,)) / '(1,)type'.\n",
      "  _np_qint8 = np.dtype([(\"qint8\", np.int8, 1)])\n",
      "/home/allankim/anaconda3/lib/python3.7/site-packages/tensorflow/python/framework/dtypes.py:517: FutureWarning: Passing (type, 1) or '1type' as a synonym of type is deprecated; in a future version of numpy, it will be understood as (type, (1,)) / '(1,)type'.\n",
      "  _np_quint8 = np.dtype([(\"quint8\", np.uint8, 1)])\n",
      "/home/allankim/anaconda3/lib/python3.7/site-packages/tensorflow/python/framework/dtypes.py:518: FutureWarning: Passing (type, 1) or '1type' as a synonym of type is deprecated; in a future version of numpy, it will be understood as (type, (1,)) / '(1,)type'.\n",
      "  _np_qint16 = np.dtype([(\"qint16\", np.int16, 1)])\n",
      "/home/allankim/anaconda3/lib/python3.7/site-packages/tensorflow/python/framework/dtypes.py:519: FutureWarning: Passing (type, 1) or '1type' as a synonym of type is deprecated; in a future version of numpy, it will be understood as (type, (1,)) / '(1,)type'.\n",
      "  _np_quint16 = np.dtype([(\"quint16\", np.uint16, 1)])\n",
      "/home/allankim/anaconda3/lib/python3.7/site-packages/tensorflow/python/framework/dtypes.py:520: FutureWarning: Passing (type, 1) or '1type' as a synonym of type is deprecated; in a future version of numpy, it will be understood as (type, (1,)) / '(1,)type'.\n",
      "  _np_qint32 = np.dtype([(\"qint32\", np.int32, 1)])\n",
      "/home/allankim/anaconda3/lib/python3.7/site-packages/tensorflow/python/framework/dtypes.py:525: FutureWarning: Passing (type, 1) or '1type' as a synonym of type is deprecated; in a future version of numpy, it will be understood as (type, (1,)) / '(1,)type'.\n",
      "  np_resource = np.dtype([(\"resource\", np.ubyte, 1)])\n",
      "/home/allankim/anaconda3/lib/python3.7/site-packages/tensorboard/compat/tensorflow_stub/dtypes.py:541: FutureWarning: Passing (type, 1) or '1type' as a synonym of type is deprecated; in a future version of numpy, it will be understood as (type, (1,)) / '(1,)type'.\n",
      "  _np_qint8 = np.dtype([(\"qint8\", np.int8, 1)])\n",
      "/home/allankim/anaconda3/lib/python3.7/site-packages/tensorboard/compat/tensorflow_stub/dtypes.py:542: FutureWarning: Passing (type, 1) or '1type' as a synonym of type is deprecated; in a future version of numpy, it will be understood as (type, (1,)) / '(1,)type'.\n",
      "  _np_quint8 = np.dtype([(\"quint8\", np.uint8, 1)])\n",
      "/home/allankim/anaconda3/lib/python3.7/site-packages/tensorboard/compat/tensorflow_stub/dtypes.py:543: FutureWarning: Passing (type, 1) or '1type' as a synonym of type is deprecated; in a future version of numpy, it will be understood as (type, (1,)) / '(1,)type'.\n",
      "  _np_qint16 = np.dtype([(\"qint16\", np.int16, 1)])\n",
      "/home/allankim/anaconda3/lib/python3.7/site-packages/tensorboard/compat/tensorflow_stub/dtypes.py:544: FutureWarning: Passing (type, 1) or '1type' as a synonym of type is deprecated; in a future version of numpy, it will be understood as (type, (1,)) / '(1,)type'.\n",
      "  _np_quint16 = np.dtype([(\"quint16\", np.uint16, 1)])\n",
      "/home/allankim/anaconda3/lib/python3.7/site-packages/tensorboard/compat/tensorflow_stub/dtypes.py:545: FutureWarning: Passing (type, 1) or '1type' as a synonym of type is deprecated; in a future version of numpy, it will be understood as (type, (1,)) / '(1,)type'.\n",
      "  _np_qint32 = np.dtype([(\"qint32\", np.int32, 1)])\n",
      "/home/allankim/anaconda3/lib/python3.7/site-packages/tensorboard/compat/tensorflow_stub/dtypes.py:550: FutureWarning: Passing (type, 1) or '1type' as a synonym of type is deprecated; in a future version of numpy, it will be understood as (type, (1,)) / '(1,)type'.\n",
      "  np_resource = np.dtype([(\"resource\", np.ubyte, 1)])\n"
     ]
    }
   ],
   "source": [
    "# Importing the Keras libraries and packages\n",
    "from keras.models import Sequential\n",
    "from keras.layers import Convolution2D\n",
    "from keras.layers import MaxPooling2D\n",
    "from keras.layers import Flatten\n",
    "from keras.layers import Dense"
   ]
  },
  {
   "cell_type": "code",
   "execution_count": 2,
   "metadata": {},
   "outputs": [
    {
     "name": "stdout",
     "output_type": "stream",
     "text": [
      "WARNING:tensorflow:From /home/allankim/anaconda3/lib/python3.7/site-packages/keras/backend/tensorflow_backend.py:4070: The name tf.nn.max_pool is deprecated. Please use tf.nn.max_pool2d instead.\n",
      "\n",
      "WARNING:tensorflow:From /home/allankim/anaconda3/lib/python3.7/site-packages/tensorflow/python/ops/nn_impl.py:180: add_dispatch_support.<locals>.wrapper (from tensorflow.python.ops.array_ops) is deprecated and will be removed in a future version.\n",
      "Instructions for updating:\n",
      "Use tf.where in 2.0, which has the same broadcast rule as np.where\n"
     ]
    },
    {
     "name": "stderr",
     "output_type": "stream",
     "text": [
      "/home/allankim/anaconda3/lib/python3.7/site-packages/ipykernel_launcher.py:5: UserWarning: Update your `Conv2D` call to the Keras 2 API: `Conv2D(32, (3, 3), input_shape=(64, 64, 3..., activation=\"relu\")`\n",
      "  \"\"\"\n",
      "/home/allankim/anaconda3/lib/python3.7/site-packages/ipykernel_launcher.py:11: UserWarning: Update your `Conv2D` call to the Keras 2 API: `Conv2D(32, (3, 3), activation=\"relu\")`\n",
      "  # This is added back by InteractiveShellApp.init_path()\n",
      "/home/allankim/anaconda3/lib/python3.7/site-packages/ipykernel_launcher.py:18: UserWarning: Update your `Dense` call to the Keras 2 API: `Dense(activation=\"relu\", units=128)`\n",
      "/home/allankim/anaconda3/lib/python3.7/site-packages/ipykernel_launcher.py:19: UserWarning: Update your `Dense` call to the Keras 2 API: `Dense(activation=\"sigmoid\", units=1)`\n"
     ]
    }
   ],
   "source": [
    "# Initialising the CNN\n",
    "classifier = Sequential()\n",
    "\n",
    "# Convolution\n",
    "classifier.add(Convolution2D(32, 3, 3, input_shape = (128, 128, 3), activation = 'relu'))\n",
    "\n",
    "# Pooling\n",
    "classifier.add(MaxPooling2D(pool_size = (2, 2)))\n",
    "\n",
    "# Adding a second convolutional layer\n",
    "classifier.add(Convolution2D(32, 3, 3, activation = 'relu'))\n",
    "classifier.add(MaxPooling2D(pool_size = (2, 2)))\n",
    "\n",
    "# Flattening the Model\n",
    "classifier.add(Flatten())\n",
    "\n",
    "# Connecting all layer\n",
    "classifier.add(Dense(output_dim = 128, activation = 'relu'))\n",
    "classifier.add(Dense(output_dim = 1, activation = 'sigmoid'))\n",
    "\n",
    "# Compiling the model\n",
    "classifier.compile(optimizer = 'adam',\n",
    "                  loss = 'binary_crossentropy',\n",
    "                  metrics = ['accuracy'])"
   ]
  },
  {
   "cell_type": "code",
   "execution_count": 3,
   "metadata": {},
   "outputs": [
    {
     "name": "stdout",
     "output_type": "stream",
     "text": [
      "Found 22564 images belonging to 2 classes.\n",
      "Found 2513 images belonging to 2 classes.\n"
     ]
    }
   ],
   "source": [
    "#pre-processing images taken from keras documentation\n",
    "from keras.preprocessing.image import ImageDataGenerator, array_to_img, img_to_array, load_img\n",
    "\n",
    "train_datagen = ImageDataGenerator(\n",
    "    rescale=1./255,\n",
    "    shear_range=0.2,\n",
    "    zoom_range=0.2,\n",
    "    horizontal_flip=True)\n",
    "\n",
    "test_datagen = ImageDataGenerator(rescale=1./255)\n",
    "\n",
    "training_set = train_datagen.flow_from_directory(\n",
    "    'Images/DATASET/TRAIN',\n",
    "    target_size=(128, 128),\n",
    "    batch_size=1,\n",
    "    class_mode='binary')\n",
    "\n",
    "test_set = test_datagen.flow_from_directory(\n",
    "    'Images/DATASET/TEST',\n",
    "    target_size=(128, 128),\n",
    "    batch_size=4,\n",
    "    class_mode='binary')"
   ]
  },
  {
   "cell_type": "code",
   "execution_count": 4,
   "metadata": {},
   "outputs": [
    {
     "name": "stdout",
     "output_type": "stream",
     "text": [
      "WARNING:tensorflow:From /home/allankim/anaconda3/lib/python3.7/site-packages/keras/backend/tensorflow_backend.py:422: The name tf.global_variables is deprecated. Please use tf.compat.v1.global_variables instead.\n",
      "\n",
      "Epoch 1/25\n",
      "22564/22564 [==============================] - 83s 4ms/step - loss: 0.4695 - accuracy: 0.7948 - val_loss: 0.0774 - val_accuracy: 0.8484\n",
      "Epoch 2/25\n",
      "22564/22564 [==============================] - 82s 4ms/step - loss: 0.4244 - accuracy: 0.8161 - val_loss: 0.0150 - val_accuracy: 0.8444\n",
      "Epoch 3/25\n",
      "22564/22564 [==============================] - 81s 4ms/step - loss: 0.4016 - accuracy: 0.8266 - val_loss: 0.5684 - val_accuracy: 0.8639\n",
      "Epoch 4/25\n",
      "22564/22564 [==============================] - 81s 4ms/step - loss: 0.3867 - accuracy: 0.8354 - val_loss: 0.0200 - val_accuracy: 0.8754\n",
      "Epoch 5/25\n",
      "22564/22564 [==============================] - 81s 4ms/step - loss: 0.3789 - accuracy: 0.8401 - val_loss: 0.1383 - val_accuracy: 0.8679\n",
      "Epoch 6/25\n",
      "22564/22564 [==============================] - 80s 4ms/step - loss: 0.3769 - accuracy: 0.8404 - val_loss: 0.1097 - val_accuracy: 0.8842\n",
      "Epoch 7/25\n",
      "22564/22564 [==============================] - 81s 4ms/step - loss: 0.3735 - accuracy: 0.8445 - val_loss: 0.1905 - val_accuracy: 0.8619\n",
      "Epoch 8/25\n",
      "22564/22564 [==============================] - 82s 4ms/step - loss: 0.3688 - accuracy: 0.8449 - val_loss: 0.0246 - val_accuracy: 0.8504\n",
      "Epoch 9/25\n",
      "22564/22564 [==============================] - 81s 4ms/step - loss: 0.3670 - accuracy: 0.8487 - val_loss: 0.0204 - val_accuracy: 0.8830\n",
      "Epoch 10/25\n",
      "22564/22564 [==============================] - 81s 4ms/step - loss: 0.3647 - accuracy: 0.8492 - val_loss: 0.2476 - val_accuracy: 0.8516\n",
      "Epoch 11/25\n",
      "22564/22564 [==============================] - 82s 4ms/step - loss: 0.3617 - accuracy: 0.8506 - val_loss: 0.4001 - val_accuracy: 0.8353\n",
      "Epoch 12/25\n",
      "22564/22564 [==============================] - 82s 4ms/step - loss: 0.3594 - accuracy: 0.8513 - val_loss: 0.1233 - val_accuracy: 0.8707\n",
      "Epoch 13/25\n",
      "22564/22564 [==============================] - 82s 4ms/step - loss: 0.3580 - accuracy: 0.8541 - val_loss: 0.1217 - val_accuracy: 0.8735\n",
      "Epoch 14/25\n",
      "22564/22564 [==============================] - 82s 4ms/step - loss: 0.3575 - accuracy: 0.8508 - val_loss: 0.2023 - val_accuracy: 0.8910\n",
      "Epoch 15/25\n",
      "22564/22564 [==============================] - 81s 4ms/step - loss: 0.3660 - accuracy: 0.8519 - val_loss: 0.1360 - val_accuracy: 0.8758\n",
      "Epoch 16/25\n",
      "22564/22564 [==============================] - 83s 4ms/step - loss: 0.3612 - accuracy: 0.8499 - val_loss: 1.0616 - val_accuracy: 0.8894\n",
      "Epoch 17/25\n",
      "22564/22564 [==============================] - 81s 4ms/step - loss: 0.3633 - accuracy: 0.8501 - val_loss: 0.0462 - val_accuracy: 0.8388\n",
      "Epoch 18/25\n",
      "22564/22564 [==============================] - 82s 4ms/step - loss: 0.3597 - accuracy: 0.8537 - val_loss: 0.3799 - val_accuracy: 0.8810\n",
      "Epoch 19/25\n",
      "22564/22564 [==============================] - 81s 4ms/step - loss: 0.3573 - accuracy: 0.8520 - val_loss: 2.7301 - val_accuracy: 0.8782\n",
      "Epoch 20/25\n",
      "22564/22564 [==============================] - 81s 4ms/step - loss: 0.3559 - accuracy: 0.8541 - val_loss: 1.5358 - val_accuracy: 0.8683\n",
      "Epoch 21/25\n",
      "22564/22564 [==============================] - 81s 4ms/step - loss: 0.3514 - accuracy: 0.8558 - val_loss: 0.1496 - val_accuracy: 0.8735\n",
      "Epoch 22/25\n",
      "22564/22564 [==============================] - 81s 4ms/step - loss: 0.3534 - accuracy: 0.8552 - val_loss: 0.1184 - val_accuracy: 0.8627\n",
      "Epoch 23/25\n",
      "22564/22564 [==============================] - 81s 4ms/step - loss: 0.3546 - accuracy: 0.8565 - val_loss: 0.5917 - val_accuracy: 0.8762\n",
      "Epoch 24/25\n",
      "22564/22564 [==============================] - 81s 4ms/step - loss: 0.3694 - accuracy: 0.8555 - val_loss: 0.1441 - val_accuracy: 0.8957\n",
      "Epoch 25/25\n",
      "22564/22564 [==============================] - 82s 4ms/step - loss: 0.3532 - accuracy: 0.8556 - val_loss: 0.6199 - val_accuracy: 0.8846\n"
     ]
    }
   ],
   "source": [
    "class1 = classifier.fit(\n",
    "    training_set,\n",
    "    epochs=25,\n",
    "    validation_data=test_set)"
   ]
  },
  {
   "cell_type": "code",
   "execution_count": 5,
   "metadata": {},
   "outputs": [],
   "source": [
    "# import numpy as np\n",
    "# from sklearn.model_selection import train_test_split\n",
    "\n",
    "# #split images and labels\n",
    "# images_train, labels_train = next(training_set)\n",
    "# images_test, labels_test= next(test_set)"
   ]
  },
  {
   "cell_type": "code",
   "execution_count": 6,
   "metadata": {},
   "outputs": [],
   "source": [
    "# #Merging all images and labels\n",
    "# images = np.concatenate((images_train, images_test))\n",
    "# labels = np.concatenate((labels_train[:,0], labels_test[:,0]))"
   ]
  },
  {
   "cell_type": "code",
   "execution_count": 7,
   "metadata": {},
   "outputs": [],
   "source": [
    "# #Creating Random Split for test data\n",
    "# X_model, X_test, y_model, y_test = train_test_split(images, labels, test_size=0.20, random_state=1234)\n",
    "\n",
    "# #Creating Random Split for validation and training data\n",
    "# X_train, X_val, y_train, y_val = train_test_split(X_model, y_model, test_size=0.20, random_state=1234)"
   ]
  },
  {
   "cell_type": "code",
   "execution_count": 8,
   "metadata": {},
   "outputs": [],
   "source": [
    "# classifier.fit(\n",
    "#     X_train,\n",
    "#     y_train,\n",
    "#     epochs=50,\n",
    "#     validation_data=(X_val, y_val))"
   ]
  },
  {
   "cell_type": "code",
   "execution_count": 10,
   "metadata": {},
   "outputs": [
    {
     "data": {
      "image/png": "[encoded data removed]",
      "text/plain": [
       "<Figure size 1080x288 with 2 Axes>"
      ]
     },
     "metadata": {
      "needs_background": "light"
     },
     "output_type": "display_data"
    }
   ],
   "source": [
    "import matplotlib.pyplot as plt\n",
    "#Extracting CNN Results for Visualization\n",
    "hist_cnn = class1.history\n",
    "loss_values = hist_cnn['loss']\n",
    "val_loss_values = hist_cnn['val_loss']\n",
    "acc_values = hist_cnn['accuracy'] \n",
    "val_acc_values = hist_cnn['val_accuracy']\n",
    "\n",
    "\n",
    "epochs = range(1, len(loss_values) + 1)\n",
    "\n",
    "plt.figure(figsize=(15,4))\n",
    "plt.subplot(121)\n",
    "plt.plot(epochs, loss_values, 'g.', label='Training loss')\n",
    "plt.plot(epochs, val_loss_values, 'g', label='Validation loss')\n",
    "\n",
    "plt.title('Training and validation loss - 2-Layer CNN')\n",
    "plt.xlabel('Epochs')\n",
    "plt.ylabel('Loss')\n",
    "plt.legend()\n",
    "\n",
    "plt.subplot(122)\n",
    "plt.plot(epochs, acc_values, 'r.', label='Training acc')\n",
    "plt.plot(epochs, val_acc_values, 'r', label='Validation acc')\n",
    "plt.title('Training and validation accuracy - 2-Layer CNN')\n",
    "plt.xlabel('Epochs')\n",
    "plt.ylabel('Accuracy')\n",
    "plt.legend()\n",
    "# plt.savefig('Images/Model/cnn1.png')\n",
    "plt.show()"
   ]
  },
  {
   "cell_type": "code",
   "execution_count": null,
   "metadata": {},
   "outputs": [],
   "source": []
  }
 ],
 "metadata": {
  "kernelspec": {
   "display_name": "Python 3",
   "language": "python",
   "name": "python3"
  },
  "language_info": {
   "codemirror_mode": {
    "name": "ipython",
    "version": 3
   },
   "file_extension": ".py",
   "mimetype": "text/x-python",
   "name": "python",
   "nbconvert_exporter": "python",
   "pygments_lexer": "ipython3",
   "version": "3.7.3"
  }
 },
 "nbformat": 4,
 "nbformat_minor": 2
}
